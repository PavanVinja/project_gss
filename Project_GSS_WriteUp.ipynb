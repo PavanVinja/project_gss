{
  "nbformat": 4,
  "nbformat_minor": 0,
  "metadata": {
    "colab": {
      "provenance": [],
      "include_colab_link": true
    },
    "kernelspec": {
      "name": "python3",
      "display_name": "Python 3"
    },
    "language_info": {
      "name": "python"
    }
  },
  "cells": [
    {
      "cell_type": "markdown",
      "metadata": {
        "id": "view-in-github",
        "colab_type": "text"
      },
      "source": [
        "<a href=\"https://colab.research.google.com/github/PavanVinja/project_gss/blob/main/Project_GSS_WriteUp.ipynb\" target=\"_parent\"><img src=\"https://colab.research.google.com/assets/colab-badge.svg\" alt=\"Open In Colab\"/></a>"
      ]
    },
    {
      "cell_type": "markdown",
      "source": [
        "**Part 1: Summary**\n",
        "Using the GSS data set, this paper explores the relationship between how the frequency of web use corelates with happiness, social trust, and outlook on life, amongst different ages and genders.\n",
        "Our hypothesis is that there is a strong correlation between people who are unhappy and people who spend a long-time consuming media and the web. It is expected that the negative effects of the web prevail and hence social trust and output on life decreases as web uses increases, especially in the younger age brackets of all genders.\n",
        "*UPDATE KEY FINDINGS. *\n",
        "\n"
      ],
      "metadata": {
        "id": "aqyTNVra0AtC"
      }
    },
    {
      "cell_type": "markdown",
      "source": [
        "**Part 2: Code**\n",
        "\n",
        "The analysis required the following variables measuring:\n",
        "- **age:** Respondent’s age\n",
        "- **sex:** Respondent’s sex\n",
        "- **web health impact:** To what extent do you agree or disagree with the following statements? During the past 12 months, information on the internet... affected my health behavior in a positive way.\n",
        "- **time:** How many minutes or hours per week do you use the Web?\n",
        "- **happy:** Taken all together, how would you say things are these days--would you say that you are very happy, pretty happy, or not too happy?\n",
        "- **health:** Would you say your own health in general is\n",
        "excellent, good, fair, or poor?\n",
        "- **life:** In general, do you find life exciting, pretty routine, or dull\n",
        "\n",
        "However, not all the data was clean. The next step after choosing the relevant variables was to clean and wrangle it.\n",
        "\n",
        "For example, we had to coerce the 'hours online variable'."
      ],
      "metadata": {
        "id": "-6sgRmew1FtF"
      }
    },
    {
      "cell_type": "code",
      "execution_count": 2,
      "metadata": {
        "colab": {
          "base_uri": "https://localhost:8080/",
          "height": 327
        },
        "id": "82vp_hbgzro1",
        "outputId": "37fd5418-0b9b-4c8c-fa74-34accc733480"
      },
      "outputs": [
        {
          "output_type": "stream",
          "name": "stdout",
          "text": [
            "Cloning into 'project_gss'...\n",
            "remote: Enumerating objects: 89, done.\u001b[K\n",
            "remote: Counting objects: 100% (40/40), done.\u001b[K\n",
            "remote: Compressing objects: 100% (32/32), done.\u001b[K\n",
            "remote: Total 89 (delta 31), reused 10 (delta 8), pack-reused 49\u001b[K\n",
            "Receiving objects: 100% (89/89), 24.79 MiB | 10.54 MiB/s, done.\n",
            "Resolving deltas: 100% (40/40), done.\n"
          ]
        },
        {
          "output_type": "execute_result",
          "data": {
            "text/plain": [
              "    age     sex webhltbeh  hours_online          happy     health life\n",
              "0  23.0  female       NaN           NaN  not too happy       good  NaN\n",
              "1  70.0    male       NaN           NaN  not too happy       fair  NaN\n",
              "2  48.0  female       NaN           NaN   pretty happy  excellent  NaN\n",
              "3  27.0  female       NaN           NaN  not too happy       good  NaN\n",
              "4  61.0  female       NaN           NaN   pretty happy       good  NaN"
            ],
            "text/html": [
              "\n",
              "  <div id=\"df-0d6ef172-4225-440f-b1cf-0a1c26ae119d\" class=\"colab-df-container\">\n",
              "    <div>\n",
              "<style scoped>\n",
              "    .dataframe tbody tr th:only-of-type {\n",
              "        vertical-align: middle;\n",
              "    }\n",
              "\n",
              "    .dataframe tbody tr th {\n",
              "        vertical-align: top;\n",
              "    }\n",
              "\n",
              "    .dataframe thead th {\n",
              "        text-align: right;\n",
              "    }\n",
              "</style>\n",
              "<table border=\"1\" class=\"dataframe\">\n",
              "  <thead>\n",
              "    <tr style=\"text-align: right;\">\n",
              "      <th></th>\n",
              "      <th>age</th>\n",
              "      <th>sex</th>\n",
              "      <th>webhltbeh</th>\n",
              "      <th>hours_online</th>\n",
              "      <th>happy</th>\n",
              "      <th>health</th>\n",
              "      <th>life</th>\n",
              "    </tr>\n",
              "  </thead>\n",
              "  <tbody>\n",
              "    <tr>\n",
              "      <th>0</th>\n",
              "      <td>23.0</td>\n",
              "      <td>female</td>\n",
              "      <td>NaN</td>\n",
              "      <td>NaN</td>\n",
              "      <td>not too happy</td>\n",
              "      <td>good</td>\n",
              "      <td>NaN</td>\n",
              "    </tr>\n",
              "    <tr>\n",
              "      <th>1</th>\n",
              "      <td>70.0</td>\n",
              "      <td>male</td>\n",
              "      <td>NaN</td>\n",
              "      <td>NaN</td>\n",
              "      <td>not too happy</td>\n",
              "      <td>fair</td>\n",
              "      <td>NaN</td>\n",
              "    </tr>\n",
              "    <tr>\n",
              "      <th>2</th>\n",
              "      <td>48.0</td>\n",
              "      <td>female</td>\n",
              "      <td>NaN</td>\n",
              "      <td>NaN</td>\n",
              "      <td>pretty happy</td>\n",
              "      <td>excellent</td>\n",
              "      <td>NaN</td>\n",
              "    </tr>\n",
              "    <tr>\n",
              "      <th>3</th>\n",
              "      <td>27.0</td>\n",
              "      <td>female</td>\n",
              "      <td>NaN</td>\n",
              "      <td>NaN</td>\n",
              "      <td>not too happy</td>\n",
              "      <td>good</td>\n",
              "      <td>NaN</td>\n",
              "    </tr>\n",
              "    <tr>\n",
              "      <th>4</th>\n",
              "      <td>61.0</td>\n",
              "      <td>female</td>\n",
              "      <td>NaN</td>\n",
              "      <td>NaN</td>\n",
              "      <td>pretty happy</td>\n",
              "      <td>good</td>\n",
              "      <td>NaN</td>\n",
              "    </tr>\n",
              "  </tbody>\n",
              "</table>\n",
              "</div>\n",
              "    <div class=\"colab-df-buttons\">\n",
              "\n",
              "  <div class=\"colab-df-container\">\n",
              "    <button class=\"colab-df-convert\" onclick=\"convertToInteractive('df-0d6ef172-4225-440f-b1cf-0a1c26ae119d')\"\n",
              "            title=\"Convert this dataframe to an interactive table.\"\n",
              "            style=\"display:none;\">\n",
              "\n",
              "  <svg xmlns=\"http://www.w3.org/2000/svg\" height=\"24px\" viewBox=\"0 -960 960 960\">\n",
              "    <path d=\"M120-120v-720h720v720H120Zm60-500h600v-160H180v160Zm220 220h160v-160H400v160Zm0 220h160v-160H400v160ZM180-400h160v-160H180v160Zm440 0h160v-160H620v160ZM180-180h160v-160H180v160Zm440 0h160v-160H620v160Z\"/>\n",
              "  </svg>\n",
              "    </button>\n",
              "\n",
              "  <style>\n",
              "    .colab-df-container {\n",
              "      display:flex;\n",
              "      gap: 12px;\n",
              "    }\n",
              "\n",
              "    .colab-df-convert {\n",
              "      background-color: #E8F0FE;\n",
              "      border: none;\n",
              "      border-radius: 50%;\n",
              "      cursor: pointer;\n",
              "      display: none;\n",
              "      fill: #1967D2;\n",
              "      height: 32px;\n",
              "      padding: 0 0 0 0;\n",
              "      width: 32px;\n",
              "    }\n",
              "\n",
              "    .colab-df-convert:hover {\n",
              "      background-color: #E2EBFA;\n",
              "      box-shadow: 0px 1px 2px rgba(60, 64, 67, 0.3), 0px 1px 3px 1px rgba(60, 64, 67, 0.15);\n",
              "      fill: #174EA6;\n",
              "    }\n",
              "\n",
              "    .colab-df-buttons div {\n",
              "      margin-bottom: 4px;\n",
              "    }\n",
              "\n",
              "    [theme=dark] .colab-df-convert {\n",
              "      background-color: #3B4455;\n",
              "      fill: #D2E3FC;\n",
              "    }\n",
              "\n",
              "    [theme=dark] .colab-df-convert:hover {\n",
              "      background-color: #434B5C;\n",
              "      box-shadow: 0px 1px 3px 1px rgba(0, 0, 0, 0.15);\n",
              "      filter: drop-shadow(0px 1px 2px rgba(0, 0, 0, 0.3));\n",
              "      fill: #FFFFFF;\n",
              "    }\n",
              "  </style>\n",
              "\n",
              "    <script>\n",
              "      const buttonEl =\n",
              "        document.querySelector('#df-0d6ef172-4225-440f-b1cf-0a1c26ae119d button.colab-df-convert');\n",
              "      buttonEl.style.display =\n",
              "        google.colab.kernel.accessAllowed ? 'block' : 'none';\n",
              "\n",
              "      async function convertToInteractive(key) {\n",
              "        const element = document.querySelector('#df-0d6ef172-4225-440f-b1cf-0a1c26ae119d');\n",
              "        const dataTable =\n",
              "          await google.colab.kernel.invokeFunction('convertToInteractive',\n",
              "                                                    [key], {});\n",
              "        if (!dataTable) return;\n",
              "\n",
              "        const docLinkHtml = 'Like what you see? Visit the ' +\n",
              "          '<a target=\"_blank\" href=https://colab.research.google.com/notebooks/data_table.ipynb>data table notebook</a>'\n",
              "          + ' to learn more about interactive tables.';\n",
              "        element.innerHTML = '';\n",
              "        dataTable['output_type'] = 'display_data';\n",
              "        await google.colab.output.renderOutput(dataTable, element);\n",
              "        const docLink = document.createElement('div');\n",
              "        docLink.innerHTML = docLinkHtml;\n",
              "        element.appendChild(docLink);\n",
              "      }\n",
              "    </script>\n",
              "  </div>\n",
              "\n",
              "\n",
              "<div id=\"df-7a105d47-386c-444c-85a2-deb406cd07ac\">\n",
              "  <button class=\"colab-df-quickchart\" onclick=\"quickchart('df-7a105d47-386c-444c-85a2-deb406cd07ac')\"\n",
              "            title=\"Suggest charts\"\n",
              "            style=\"display:none;\">\n",
              "\n",
              "<svg xmlns=\"http://www.w3.org/2000/svg\" height=\"24px\"viewBox=\"0 0 24 24\"\n",
              "     width=\"24px\">\n",
              "    <g>\n",
              "        <path d=\"M19 3H5c-1.1 0-2 .9-2 2v14c0 1.1.9 2 2 2h14c1.1 0 2-.9 2-2V5c0-1.1-.9-2-2-2zM9 17H7v-7h2v7zm4 0h-2V7h2v10zm4 0h-2v-4h2v4z\"/>\n",
              "    </g>\n",
              "</svg>\n",
              "  </button>\n",
              "\n",
              "<style>\n",
              "  .colab-df-quickchart {\n",
              "      --bg-color: #E8F0FE;\n",
              "      --fill-color: #1967D2;\n",
              "      --hover-bg-color: #E2EBFA;\n",
              "      --hover-fill-color: #174EA6;\n",
              "      --disabled-fill-color: #AAA;\n",
              "      --disabled-bg-color: #DDD;\n",
              "  }\n",
              "\n",
              "  [theme=dark] .colab-df-quickchart {\n",
              "      --bg-color: #3B4455;\n",
              "      --fill-color: #D2E3FC;\n",
              "      --hover-bg-color: #434B5C;\n",
              "      --hover-fill-color: #FFFFFF;\n",
              "      --disabled-bg-color: #3B4455;\n",
              "      --disabled-fill-color: #666;\n",
              "  }\n",
              "\n",
              "  .colab-df-quickchart {\n",
              "    background-color: var(--bg-color);\n",
              "    border: none;\n",
              "    border-radius: 50%;\n",
              "    cursor: pointer;\n",
              "    display: none;\n",
              "    fill: var(--fill-color);\n",
              "    height: 32px;\n",
              "    padding: 0;\n",
              "    width: 32px;\n",
              "  }\n",
              "\n",
              "  .colab-df-quickchart:hover {\n",
              "    background-color: var(--hover-bg-color);\n",
              "    box-shadow: 0 1px 2px rgba(60, 64, 67, 0.3), 0 1px 3px 1px rgba(60, 64, 67, 0.15);\n",
              "    fill: var(--button-hover-fill-color);\n",
              "  }\n",
              "\n",
              "  .colab-df-quickchart-complete:disabled,\n",
              "  .colab-df-quickchart-complete:disabled:hover {\n",
              "    background-color: var(--disabled-bg-color);\n",
              "    fill: var(--disabled-fill-color);\n",
              "    box-shadow: none;\n",
              "  }\n",
              "\n",
              "  .colab-df-spinner {\n",
              "    border: 2px solid var(--fill-color);\n",
              "    border-color: transparent;\n",
              "    border-bottom-color: var(--fill-color);\n",
              "    animation:\n",
              "      spin 1s steps(1) infinite;\n",
              "  }\n",
              "\n",
              "  @keyframes spin {\n",
              "    0% {\n",
              "      border-color: transparent;\n",
              "      border-bottom-color: var(--fill-color);\n",
              "      border-left-color: var(--fill-color);\n",
              "    }\n",
              "    20% {\n",
              "      border-color: transparent;\n",
              "      border-left-color: var(--fill-color);\n",
              "      border-top-color: var(--fill-color);\n",
              "    }\n",
              "    30% {\n",
              "      border-color: transparent;\n",
              "      border-left-color: var(--fill-color);\n",
              "      border-top-color: var(--fill-color);\n",
              "      border-right-color: var(--fill-color);\n",
              "    }\n",
              "    40% {\n",
              "      border-color: transparent;\n",
              "      border-right-color: var(--fill-color);\n",
              "      border-top-color: var(--fill-color);\n",
              "    }\n",
              "    60% {\n",
              "      border-color: transparent;\n",
              "      border-right-color: var(--fill-color);\n",
              "    }\n",
              "    80% {\n",
              "      border-color: transparent;\n",
              "      border-right-color: var(--fill-color);\n",
              "      border-bottom-color: var(--fill-color);\n",
              "    }\n",
              "    90% {\n",
              "      border-color: transparent;\n",
              "      border-bottom-color: var(--fill-color);\n",
              "    }\n",
              "  }\n",
              "</style>\n",
              "\n",
              "  <script>\n",
              "    async function quickchart(key) {\n",
              "      const quickchartButtonEl =\n",
              "        document.querySelector('#' + key + ' button');\n",
              "      quickchartButtonEl.disabled = true;  // To prevent multiple clicks.\n",
              "      quickchartButtonEl.classList.add('colab-df-spinner');\n",
              "      try {\n",
              "        const charts = await google.colab.kernel.invokeFunction(\n",
              "            'suggestCharts', [key], {});\n",
              "      } catch (error) {\n",
              "        console.error('Error during call to suggestCharts:', error);\n",
              "      }\n",
              "      quickchartButtonEl.classList.remove('colab-df-spinner');\n",
              "      quickchartButtonEl.classList.add('colab-df-quickchart-complete');\n",
              "    }\n",
              "    (() => {\n",
              "      let quickchartButtonEl =\n",
              "        document.querySelector('#df-7a105d47-386c-444c-85a2-deb406cd07ac button');\n",
              "      quickchartButtonEl.style.display =\n",
              "        google.colab.kernel.accessAllowed ? 'block' : 'none';\n",
              "    })();\n",
              "  </script>\n",
              "</div>\n",
              "    </div>\n",
              "  </div>\n"
            ],
            "application/vnd.google.colaboratory.intrinsic+json": {
              "type": "dataframe",
              "variable_name": "df",
              "summary": "{\n  \"name\": \"df\",\n  \"rows\": 72392,\n  \"fields\": [\n    {\n      \"column\": \"age\",\n      \"properties\": {\n        \"dtype\": \"category\",\n        \"num_unique_values\": 73,\n        \"samples\": [\n          \"61.0\",\n          \"77.0\",\n          \"71.0\"\n        ],\n        \"semantic_type\": \"\",\n        \"description\": \"\"\n      }\n    },\n    {\n      \"column\": \"sex\",\n      \"properties\": {\n        \"dtype\": \"category\",\n        \"num_unique_values\": 3,\n        \"samples\": [\n          \"female\",\n          \"male\",\n          \"sex\"\n        ],\n        \"semantic_type\": \"\",\n        \"description\": \"\"\n      }\n    },\n    {\n      \"column\": \"webhltbeh\",\n      \"properties\": {\n        \"dtype\": \"category\",\n        \"num_unique_values\": 6,\n        \"samples\": [\n          \"webhltbeh\",\n          \"neither agree nor disagree\",\n          \"strongly agree\"\n        ],\n        \"semantic_type\": \"\",\n        \"description\": \"\"\n      }\n    },\n    {\n      \"column\": \"hours_online\",\n      \"properties\": {\n        \"dtype\": \"number\",\n        \"std\": 15.244950717118929,\n        \"min\": 0.0,\n        \"max\": 168.0,\n        \"num_unique_values\": 89,\n        \"samples\": [\n          26.0,\n          168.0,\n          45.0\n        ],\n        \"semantic_type\": \"\",\n        \"description\": \"\"\n      }\n    },\n    {\n      \"column\": \"happy\",\n      \"properties\": {\n        \"dtype\": \"category\",\n        \"num_unique_values\": 4,\n        \"samples\": [\n          \"pretty happy\",\n          \"happy\",\n          \"not too happy\"\n        ],\n        \"semantic_type\": \"\",\n        \"description\": \"\"\n      }\n    },\n    {\n      \"column\": \"health\",\n      \"properties\": {\n        \"dtype\": \"category\",\n        \"num_unique_values\": 5,\n        \"samples\": [\n          \"fair\",\n          \"health\",\n          \"excellent\"\n        ],\n        \"semantic_type\": \"\",\n        \"description\": \"\"\n      }\n    },\n    {\n      \"column\": \"life\",\n      \"properties\": {\n        \"dtype\": \"category\",\n        \"num_unique_values\": 4,\n        \"samples\": [\n          \"exciting\",\n          \"life\",\n          \"routine\"\n        ],\n        \"semantic_type\": \"\",\n        \"description\": \"\"\n      }\n    }\n  ]\n}"
            }
          },
          "metadata": {},
          "execution_count": 2
        }
      ],
      "source": [
        "!git clone https://github.com/PavanVinja/project_gss.git\n",
        "import pandas as pd\n",
        "import numpy as np\n",
        "import seaborn as sns\n",
        "import matplotlib.pyplot as plt\n",
        "df = pd.read_csv(\"./project_gss/selected_gss_data.csv\")\n",
        "df.rename(columns = {'wwwhr' : 'hours_online'}, inplace = True )\n",
        "df['hours_online'] = pd.to_numeric(df['hours_online'], errors = 'coerce')\n",
        "df.head(5)"
      ]
    },
    {
      "cell_type": "markdown",
      "source": [
        "Additionally, when looking at the relationship between HEALTH, GENDER, AND SOCIAL MEDIA HOURS, a boxplot was believed to be most accurate to represent this categorical data. But some of the values had to be imputed and removed before we could create the boxplot as seen in the steps below."
      ],
      "metadata": {
        "id": "xq2Sp46f28Gv"
      }
    },
    {
      "cell_type": "code",
      "source": [
        "health_unique = df['health'].unique()\n",
        "gender_unique = df['sex'].unique()\n",
        "hours_unique = df['hours_online'].unique()\n",
        "\n",
        "print(\"Health Unique\", health_unique)\n",
        "print(\"Gender Unique\", gender_unique)\n",
        "print(\"Hours Unique\", hours_unique)\n",
        "\n",
        "health_missing = df['health'].isnull().sum()\n",
        "gender_missing = df['sex'].isnull().sum()\n",
        "hours_missing = df['hours_online'].isnull().sum()\n",
        "\n",
        "print(health_missing, gender_missing, hours_missing)\n",
        "\n",
        "#NA for sex is so small so drop, also dropping health because hard to impute categorical variable\n",
        "df = df.dropna(subset = ['sex', 'health', 'hours_online'])\n",
        "\n",
        "#Impute values for hours_missing, commented out because with how many hours_online we are missing setting the rest to the mean results in little variation for graphs\n",
        "#df['hours_online'].fillna(df['hours_online'].mean(), inplace = True)"
      ],
      "metadata": {
        "colab": {
          "base_uri": "https://localhost:8080/"
        },
        "id": "6E72ggx03r4-",
        "outputId": "9b78684d-cdba-42bc-ca18-5f6823291bc8"
      },
      "execution_count": 3,
      "outputs": [
        {
          "output_type": "stream",
          "name": "stdout",
          "text": [
            "Health Unique ['good' 'fair' 'excellent' 'poor' nan 'health']\n",
            "Gender Unique ['female' 'male' 'sex' nan]\n",
            "Hours Unique [ nan   5.   2.   1.   0.   6.   7.   8.   3.   4.  30.  10.  50.  21.\n",
            "  23.  40.  12.  20.  16.  15.  60.  14.  25.  46.   9.  17.  13.  98.\n",
            "  28.  42.  35.  45.  36.  11.  32. 112.  22.  24.  64.  29.  18. 100.\n",
            "  48.  37.  27.  26.  65.  70. 130.  49.  72.  55.  75.  80. 168.  66.\n",
            " 120.  38.  19.  84.  63.  33. 122.  90.  91. 132.  85. 140.  86.  34.\n",
            "  56.  47.  43. 105.  95.  83.  57.  68. 125. 110. 150. 160.  39.  96.\n",
            "  54.  76.  51. 119.  41. 126.]\n",
            "17236 112 55206\n"
          ]
        }
      ]
    },
    {
      "cell_type": "markdown",
      "source": [
        "**Results**\n",
        "*Overall results to be updated at the end*\n"
      ],
      "metadata": {
        "id": "y0rqLqQr3mGh"
      }
    },
    {
      "cell_type": "markdown",
      "source": [
        "At first glance, the hours online and happiness do not seem to support the hypothesis. As the table below shows, most of the surveyed population use the web for less than an hour a day (5 hours / weekly). Additionally, across all the 4 categories for web usage 5 hours, 5-10 hours, 10-15 hours, 15+ hours, we can see the distribution of people who are in 'good' health condition is the highest. Following this for all categories the excellent health condition comes next, and then fair with just a small number of people in poor condition. This supports the idea that health does not decrease with hours spent on the web, as if this was the case, we would have expected to see an increase in the proportion of people in the fair and poor category as the hours spent on the web increased."
      ],
      "metadata": {
        "id": "Rnf21oBx6DUP"
      }
    },
    {
      "cell_type": "code",
      "source": [
        "df['age'] = pd.to_numeric(df['age'], errors = 'coerce').astype('Int64')\n",
        "bins = [-1, 5, 10, 15, 100]\n",
        "labels = ['Less than 5', '5-10', '10-15', '15+']\n",
        "df['hours_online_bins'] = pd.cut(df['hours_online'], bins=bins, labels=labels)\n",
        "\n",
        "sns.countplot(x='hours_online_bins', hue='health', data=df, stat='percent', palette = 'dark:salmon_r')\n",
        "plt.xlabel('Hours Online')\n",
        "plt.ylabel('Percent of Total Observations')\n",
        "plt.title('Distribution of health based on time spent online')\n",
        "plt.legend(title='Health')\n"
      ],
      "metadata": {
        "colab": {
          "base_uri": "https://localhost:8080/",
          "height": 698
        },
        "id": "aG2f88UE7Rwg",
        "outputId": "462153f5-50c6-46c1-a9ad-9c3f39841c64"
      },
      "execution_count": 4,
      "outputs": [
        {
          "output_type": "stream",
          "name": "stderr",
          "text": [
            "<ipython-input-4-496efa8786dc>:1: SettingWithCopyWarning: \n",
            "A value is trying to be set on a copy of a slice from a DataFrame.\n",
            "Try using .loc[row_indexer,col_indexer] = value instead\n",
            "\n",
            "See the caveats in the documentation: https://pandas.pydata.org/pandas-docs/stable/user_guide/indexing.html#returning-a-view-versus-a-copy\n",
            "  df['age'] = pd.to_numeric(df['age'], errors = 'coerce').astype('Int64')\n",
            "<ipython-input-4-496efa8786dc>:4: SettingWithCopyWarning: \n",
            "A value is trying to be set on a copy of a slice from a DataFrame.\n",
            "Try using .loc[row_indexer,col_indexer] = value instead\n",
            "\n",
            "See the caveats in the documentation: https://pandas.pydata.org/pandas-docs/stable/user_guide/indexing.html#returning-a-view-versus-a-copy\n",
            "  df['hours_online_bins'] = pd.cut(df['hours_online'], bins=bins, labels=labels)\n"
          ]
        },
        {
          "output_type": "execute_result",
          "data": {
            "text/plain": [
              "<matplotlib.legend.Legend at 0x7ab1ca6b9f60>"
            ]
          },
          "metadata": {},
          "execution_count": 4
        },
        {
          "output_type": "display_data",
          "data": {
            "text/plain": [
              "<Figure size 640x480 with 1 Axes>"
            ],
            "image/png": "[encoded data removed]"
          },
          "metadata": {}
        }
      ]
    },
    {
      "cell_type": "markdown",
      "source": [
        "The exploration between age, hours on the web, and health along with gender, hours on the web, and health do not show any differentiating results. The average, person surveyed was around 40 years old, and the age group with the most hours online was around 35 years of age. Across gender is seemed like males used the web slightly more but no significant difference on health. This doesn't lead to any concrete conclusions, but does allign with the stereotypes that the younger generation tend to be more involved on the web compared to the elder generations."
      ],
      "metadata": {
        "id": "0NVLiXaA76Re"
      }
    },
    {
      "cell_type": "code",
      "source": [
        "# First group data by happiness types and gender and calculate average hours\n",
        "grouped_data = df.groupby(['happy', 'sex']).mean().reset_index()\n",
        "\n",
        "# Plot the histogram using seaborn\n",
        "sns.barplot(data=grouped_data, x='happy', y='hours_online', hue='sex')\n",
        "\n",
        "plt.xlabel('Level of Life Happiness')\n",
        "plt.ylabel('Average hours of internet usage')\n",
        "plt.title('Average Hours of Internet Usage by Happiness and Gender')\n",
        "plt.legend(title='Gender')\n",
        "\n",
        "plt.show()"
      ],
      "metadata": {
        "colab": {
          "base_uri": "https://localhost:8080/",
          "height": 527
        },
        "id": "uVObqto65UUM",
        "outputId": "6a1e96fc-e585-46ae-ebc1-86a0bfbb33e3"
      },
      "execution_count": 5,
      "outputs": [
        {
          "output_type": "stream",
          "name": "stderr",
          "text": [
            "<ipython-input-5-d8bab1581471>:2: FutureWarning: The default value of numeric_only in DataFrameGroupBy.mean is deprecated. In a future version, numeric_only will default to False. Either specify numeric_only or select only columns which should be valid for the function.\n",
            "  grouped_data = df.groupby(['happy', 'sex']).mean().reset_index()\n"
          ]
        },
        {
          "output_type": "display_data",
          "data": {
            "text/plain": [
              "<Figure size 640x480 with 1 Axes>"
            ],
            "image/png": "[encoded data removed]"
          },
          "metadata": {}
        }
      ]
    },
    {
      "cell_type": "markdown",
      "source": [
        "**Conclusion**\n",
        "\n",
        "This project utilized the General Social Survey (GSS) dataset to investigate the correlation between web usage frequency and happiness, social trust, and outlook on life across different age groups and genders. The hypothesis suggested a strong link between increased web usage and decreased levels of happiness, social trust, and life outlook, particularly among younger demographics.\n",
        "\n",
        "Key findings from the analysis revealed that while there was a considerable variation in web usage patterns among respondents, the data did not strongly support the initial hypothesis. Surprisingly, there was no significant association observed between hours spent online and measures of happiness, social trust, or life outlook. Additionally, the analysis did not yield substantial differences in these variables across age groups and genders. However, the methodology employed in this study faced several criticisms and limitations. These included a limited selection of variables that may not fully capture the complex relationship between web use and well-being, the absence of data regarding the quality of web interactions, and the assumption of a unidirectional negative impact of web use on well-being without considering reverse causality. Moreover, the study's focus on a single year of data limited the ability to discern long-term trends or changes over time. Despite these limitations, this project presents valuable insights and opens avenues for future research.\n",
        "\n",
        "Overall, while this study provides initial insights into the relationship between web usage and well-being, further research is needed to elucidate the complex dynamics at play and inform more nuanced conclusions.\n",
        "\n",
        "\n",
        "**Criticisms of the Method:**\n",
        "\n",
        "- Limited variable selection: The chosen variables might not comprehensively capture the complex relationship between web use, happiness, social trust, and outlook on life. If factors like: Type of web use, differentiate between social media, news, entertainment, etc. were included more enhanced conclusions could have been made about the effects of specific types of the web.  \n",
        "- Quality of web interactions: No variables were used to record if web interactions were inherently positive or negative.\n",
        "- Social support network: Given how broad health is as a measure there could have been accounting for offline social connections that might influence well-being.\n",
        "- Direction of causality: The study assumes web use negatively affects well-being, but the reverse could also be true (unhappy people using web more for coping).\n",
        "- Time period: Looking at the data for just one year did not allow for the identification of trends over periods like if overall health has decreased or if hours spent on the web has increased.\n",
        "\n",
        "**Future research opportunities**\n",
        "\n",
        "- Conduct a literature review: Explore existing research on web use, happiness, social trust, and life outlook to identify potential gaps and refine your research questions.\n",
        "- Refine your research question: Based on the identified limitations and areas for improvement, formulate a more specific and nuanced research question.\n",
        "- Collect additional data: If possible, gather data from a broader demographic and consider using longitudinal studies.\n",
        "- Disseminate your findings: Share your research through presentations, publications, or reports to contribute to gain from the greater communities’ depth of knowledge or other forms of analysis/research."
      ],
      "metadata": {
        "id": "k9GBIlR5-a0D"
      }
    }
  ]
}
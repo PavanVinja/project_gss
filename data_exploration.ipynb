{
  "nbformat": 4,
  "nbformat_minor": 0,
  "metadata": {
    "colab": {
      "provenance": [],
      "include_colab_link": true
    },
    "kernelspec": {
      "name": "python3",
      "display_name": "Python 3"
    },
    "language_info": {
      "name": "python"
    }
  },
  "cells": [
    {
      "cell_type": "markdown",
      "metadata": {
        "id": "view-in-github",
        "colab_type": "text"
      },
      "source": [
        "<a href=\"https://colab.research.google.com/github/PavanVinja/project_gss/blob/main/data_exploration.ipynb\" target=\"_parent\"><img src=\"https://colab.research.google.com/assets/colab-badge.svg\" alt=\"Open In Colab\"/></a>"
      ]
    },
    {
      "cell_type": "markdown",
      "source": [
        "Data Exploration\n",
        "\n",
        "!git clone https://github.com/PavanVinja/project_gss.git"
      ],
      "metadata": {
        "id": "NOQGv0_aplep"
      }
    },
    {
      "cell_type": "code",
      "source": [
        "#!git clone https://github.com/PavanVinja/project_gss.git"
      ],
      "metadata": {
        "id": "HMf8j6pUppS9"
      },
      "execution_count": null,
      "outputs": []
    },
    {
      "cell_type": "code",
      "source": [
        "import pandas as pd\n",
        "import numpy as np\n",
        "import seaborn as sns\n",
        "import matplotlib.pyplot as plt"
      ],
      "metadata": {
        "id": "UaRfEqYup0uW"
      },
      "execution_count": 2,
      "outputs": []
    },
    {
      "cell_type": "code",
      "source": [
        "df = pd.read_csv(\"selected_gss_data.csv\")"
      ],
      "metadata": {
        "id": "zBirw44VrFil"
      },
      "execution_count": 4,
      "outputs": []
    },
    {
      "cell_type": "code",
      "source": [
        "df.head(5)"
      ],
      "metadata": {
        "colab": {
          "base_uri": "https://localhost:8080/",
          "height": 206
        },
        "id": "k5KIhTimrMOR",
        "outputId": "a09fd363-0f55-483b-de58-5ac0e46a49c4"
      },
      "execution_count": 5,
      "outputs": [
        {
          "output_type": "execute_result",
          "data": {
            "text/plain": [
              "    age     sex webhltbeh wwwhr          happy     health life\n",
              "0  23.0  female       NaN   NaN  not too happy       good  NaN\n",
              "1  70.0    male       NaN   NaN  not too happy       fair  NaN\n",
              "2  48.0  female       NaN   NaN   pretty happy  excellent  NaN\n",
              "3  27.0  female       NaN   NaN  not too happy       good  NaN\n",
              "4  61.0  female       NaN   NaN   pretty happy       good  NaN"
            ],
            "text/html": [
              "\n",
              "  <div id=\"df-3c4c45e1-890b-48d2-b025-1bc92ee549b3\" class=\"colab-df-container\">\n",
              "    <div>\n",
              "<style scoped>\n",
              "    .dataframe tbody tr th:only-of-type {\n",
              "        vertical-align: middle;\n",
              "    }\n",
              "\n",
              "    .dataframe tbody tr th {\n",
              "        vertical-align: top;\n",
              "    }\n",
              "\n",
              "    .dataframe thead th {\n",
              "        text-align: right;\n",
              "    }\n",
              "</style>\n",
              "<table border=\"1\" class=\"dataframe\">\n",
              "  <thead>\n",
              "    <tr style=\"text-align: right;\">\n",
              "      <th></th>\n",
              "      <th>age</th>\n",
              "      <th>sex</th>\n",
              "      <th>webhltbeh</th>\n",
              "      <th>wwwhr</th>\n",
              "      <th>happy</th>\n",
              "      <th>health</th>\n",
              "      <th>life</th>\n",
              "    </tr>\n",
              "  </thead>\n",
              "  <tbody>\n",
              "    <tr>\n",
              "      <th>0</th>\n",
              "      <td>23.0</td>\n",
              "      <td>female</td>\n",
              "      <td>NaN</td>\n",
              "      <td>NaN</td>\n",
              "      <td>not too happy</td>\n",
              "      <td>good</td>\n",
              "      <td>NaN</td>\n",
              "    </tr>\n",
              "    <tr>\n",
              "      <th>1</th>\n",
              "      <td>70.0</td>\n",
              "      <td>male</td>\n",
              "      <td>NaN</td>\n",
              "      <td>NaN</td>\n",
              "      <td>not too happy</td>\n",
              "      <td>fair</td>\n",
              "      <td>NaN</td>\n",
              "    </tr>\n",
              "    <tr>\n",
              "      <th>2</th>\n",
              "      <td>48.0</td>\n",
              "      <td>female</td>\n",
              "      <td>NaN</td>\n",
              "      <td>NaN</td>\n",
              "      <td>pretty happy</td>\n",
              "      <td>excellent</td>\n",
              "      <td>NaN</td>\n",
              "    </tr>\n",
              "    <tr>\n",
              "      <th>3</th>\n",
              "      <td>27.0</td>\n",
              "      <td>female</td>\n",
              "      <td>NaN</td>\n",
              "      <td>NaN</td>\n",
              "      <td>not too happy</td>\n",
              "      <td>good</td>\n",
              "      <td>NaN</td>\n",
              "    </tr>\n",
              "    <tr>\n",
              "      <th>4</th>\n",
              "      <td>61.0</td>\n",
              "      <td>female</td>\n",
              "      <td>NaN</td>\n",
              "      <td>NaN</td>\n",
              "      <td>pretty happy</td>\n",
              "      <td>good</td>\n",
              "      <td>NaN</td>\n",
              "    </tr>\n",
              "  </tbody>\n",
              "</table>\n",
              "</div>\n",
              "    <div class=\"colab-df-buttons\">\n",
              "\n",
              "  <div class=\"colab-df-container\">\n",
              "    <button class=\"colab-df-convert\" onclick=\"convertToInteractive('df-3c4c45e1-890b-48d2-b025-1bc92ee549b3')\"\n",
              "            title=\"Convert this dataframe to an interactive table.\"\n",
              "            style=\"display:none;\">\n",
              "\n",
              "  <svg xmlns=\"http://www.w3.org/2000/svg\" height=\"24px\" viewBox=\"0 -960 960 960\">\n",
              "    <path d=\"M120-120v-720h720v720H120Zm60-500h600v-160H180v160Zm220 220h160v-160H400v160Zm0 220h160v-160H400v160ZM180-400h160v-160H180v160Zm440 0h160v-160H620v160ZM180-180h160v-160H180v160Zm440 0h160v-160H620v160Z\"/>\n",
              "  </svg>\n",
              "    </button>\n",
              "\n",
              "  <style>\n",
              "    .colab-df-container {\n",
              "      display:flex;\n",
              "      gap: 12px;\n",
              "    }\n",
              "\n",
              "    .colab-df-convert {\n",
              "      background-color: #E8F0FE;\n",
              "      border: none;\n",
              "      border-radius: 50%;\n",
              "      cursor: pointer;\n",
              "      display: none;\n",
              "      fill: #1967D2;\n",
              "      height: 32px;\n",
              "      padding: 0 0 0 0;\n",
              "      width: 32px;\n",
              "    }\n",
              "\n",
              "    .colab-df-convert:hover {\n",
              "      background-color: #E2EBFA;\n",
              "      box-shadow: 0px 1px 2px rgba(60, 64, 67, 0.3), 0px 1px 3px 1px rgba(60, 64, 67, 0.15);\n",
              "      fill: #174EA6;\n",
              "    }\n",
              "\n",
              "    .colab-df-buttons div {\n",
              "      margin-bottom: 4px;\n",
              "    }\n",
              "\n",
              "    [theme=dark] .colab-df-convert {\n",
              "      background-color: #3B4455;\n",
              "      fill: #D2E3FC;\n",
              "    }\n",
              "\n",
              "    [theme=dark] .colab-df-convert:hover {\n",
              "      background-color: #434B5C;\n",
              "      box-shadow: 0px 1px 3px 1px rgba(0, 0, 0, 0.15);\n",
              "      filter: drop-shadow(0px 1px 2px rgba(0, 0, 0, 0.3));\n",
              "      fill: #FFFFFF;\n",
              "    }\n",
              "  </style>\n",
              "\n",
              "    <script>\n",
              "      const buttonEl =\n",
              "        document.querySelector('#df-3c4c45e1-890b-48d2-b025-1bc92ee549b3 button.colab-df-convert');\n",
              "      buttonEl.style.display =\n",
              "        google.colab.kernel.accessAllowed ? 'block' : 'none';\n",
              "\n",
              "      async function convertToInteractive(key) {\n",
              "        const element = document.querySelector('#df-3c4c45e1-890b-48d2-b025-1bc92ee549b3');\n",
              "        const dataTable =\n",
              "          await google.colab.kernel.invokeFunction('convertToInteractive',\n",
              "                                                    [key], {});\n",
              "        if (!dataTable) return;\n",
              "\n",
              "        const docLinkHtml = 'Like what you see? Visit the ' +\n",
              "          '<a target=\"_blank\" href=https://colab.research.google.com/notebooks/data_table.ipynb>data table notebook</a>'\n",
              "          + ' to learn more about interactive tables.';\n",
              "        element.innerHTML = '';\n",
              "        dataTable['output_type'] = 'display_data';\n",
              "        await google.colab.output.renderOutput(dataTable, element);\n",
              "        const docLink = document.createElement('div');\n",
              "        docLink.innerHTML = docLinkHtml;\n",
              "        element.appendChild(docLink);\n",
              "      }\n",
              "    </script>\n",
              "  </div>\n",
              "\n",
              "\n",
              "<div id=\"df-517bc6e6-df0e-4195-88b8-48441dc2d29d\">\n",
              "  <button class=\"colab-df-quickchart\" onclick=\"quickchart('df-517bc6e6-df0e-4195-88b8-48441dc2d29d')\"\n",
              "            title=\"Suggest charts\"\n",
              "            style=\"display:none;\">\n",
              "\n",
              "<svg xmlns=\"http://www.w3.org/2000/svg\" height=\"24px\"viewBox=\"0 0 24 24\"\n",
              "     width=\"24px\">\n",
              "    <g>\n",
              "        <path d=\"M19 3H5c-1.1 0-2 .9-2 2v14c0 1.1.9 2 2 2h14c1.1 0 2-.9 2-2V5c0-1.1-.9-2-2-2zM9 17H7v-7h2v7zm4 0h-2V7h2v10zm4 0h-2v-4h2v4z\"/>\n",
              "    </g>\n",
              "</svg>\n",
              "  </button>\n",
              "\n",
              "<style>\n",
              "  .colab-df-quickchart {\n",
              "      --bg-color: #E8F0FE;\n",
              "      --fill-color: #1967D2;\n",
              "      --hover-bg-color: #E2EBFA;\n",
              "      --hover-fill-color: #174EA6;\n",
              "      --disabled-fill-color: #AAA;\n",
              "      --disabled-bg-color: #DDD;\n",
              "  }\n",
              "\n",
              "  [theme=dark] .colab-df-quickchart {\n",
              "      --bg-color: #3B4455;\n",
              "      --fill-color: #D2E3FC;\n",
              "      --hover-bg-color: #434B5C;\n",
              "      --hover-fill-color: #FFFFFF;\n",
              "      --disabled-bg-color: #3B4455;\n",
              "      --disabled-fill-color: #666;\n",
              "  }\n",
              "\n",
              "  .colab-df-quickchart {\n",
              "    background-color: var(--bg-color);\n",
              "    border: none;\n",
              "    border-radius: 50%;\n",
              "    cursor: pointer;\n",
              "    display: none;\n",
              "    fill: var(--fill-color);\n",
              "    height: 32px;\n",
              "    padding: 0;\n",
              "    width: 32px;\n",
              "  }\n",
              "\n",
              "  .colab-df-quickchart:hover {\n",
              "    background-color: var(--hover-bg-color);\n",
              "    box-shadow: 0 1px 2px rgba(60, 64, 67, 0.3), 0 1px 3px 1px rgba(60, 64, 67, 0.15);\n",
              "    fill: var(--button-hover-fill-color);\n",
              "  }\n",
              "\n",
              "  .colab-df-quickchart-complete:disabled,\n",
              "  .colab-df-quickchart-complete:disabled:hover {\n",
              "    background-color: var(--disabled-bg-color);\n",
              "    fill: var(--disabled-fill-color);\n",
              "    box-shadow: none;\n",
              "  }\n",
              "\n",
              "  .colab-df-spinner {\n",
              "    border: 2px solid var(--fill-color);\n",
              "    border-color: transparent;\n",
              "    border-bottom-color: var(--fill-color);\n",
              "    animation:\n",
              "      spin 1s steps(1) infinite;\n",
              "  }\n",
              "\n",
              "  @keyframes spin {\n",
              "    0% {\n",
              "      border-color: transparent;\n",
              "      border-bottom-color: var(--fill-color);\n",
              "      border-left-color: var(--fill-color);\n",
              "    }\n",
              "    20% {\n",
              "      border-color: transparent;\n",
              "      border-left-color: var(--fill-color);\n",
              "      border-top-color: var(--fill-color);\n",
              "    }\n",
              "    30% {\n",
              "      border-color: transparent;\n",
              "      border-left-color: var(--fill-color);\n",
              "      border-top-color: var(--fill-color);\n",
              "      border-right-color: var(--fill-color);\n",
              "    }\n",
              "    40% {\n",
              "      border-color: transparent;\n",
              "      border-right-color: var(--fill-color);\n",
              "      border-top-color: var(--fill-color);\n",
              "    }\n",
              "    60% {\n",
              "      border-color: transparent;\n",
              "      border-right-color: var(--fill-color);\n",
              "    }\n",
              "    80% {\n",
              "      border-color: transparent;\n",
              "      border-right-color: var(--fill-color);\n",
              "      border-bottom-color: var(--fill-color);\n",
              "    }\n",
              "    90% {\n",
              "      border-color: transparent;\n",
              "      border-bottom-color: var(--fill-color);\n",
              "    }\n",
              "  }\n",
              "</style>\n",
              "\n",
              "  <script>\n",
              "    async function quickchart(key) {\n",
              "      const quickchartButtonEl =\n",
              "        document.querySelector('#' + key + ' button');\n",
              "      quickchartButtonEl.disabled = true;  // To prevent multiple clicks.\n",
              "      quickchartButtonEl.classList.add('colab-df-spinner');\n",
              "      try {\n",
              "        const charts = await google.colab.kernel.invokeFunction(\n",
              "            'suggestCharts', [key], {});\n",
              "      } catch (error) {\n",
              "        console.error('Error during call to suggestCharts:', error);\n",
              "      }\n",
              "      quickchartButtonEl.classList.remove('colab-df-spinner');\n",
              "      quickchartButtonEl.classList.add('colab-df-quickchart-complete');\n",
              "    }\n",
              "    (() => {\n",
              "      let quickchartButtonEl =\n",
              "        document.querySelector('#df-517bc6e6-df0e-4195-88b8-48441dc2d29d button');\n",
              "      quickchartButtonEl.style.display =\n",
              "        google.colab.kernel.accessAllowed ? 'block' : 'none';\n",
              "    })();\n",
              "  </script>\n",
              "</div>\n",
              "    </div>\n",
              "  </div>\n"
            ],
            "application/vnd.google.colaboratory.intrinsic+json": {
              "type": "dataframe",
              "variable_name": "df",
              "summary": "{\n  \"name\": \"df\",\n  \"rows\": 72392,\n  \"fields\": [\n    {\n      \"column\": \"age\",\n      \"properties\": {\n        \"dtype\": \"category\",\n        \"num_unique_values\": 73,\n        \"samples\": [\n          \"61.0\",\n          \"77.0\",\n          \"71.0\"\n        ],\n        \"semantic_type\": \"\",\n        \"description\": \"\"\n      }\n    },\n    {\n      \"column\": \"sex\",\n      \"properties\": {\n        \"dtype\": \"category\",\n        \"num_unique_values\": 3,\n        \"samples\": [\n          \"female\",\n          \"male\",\n          \"sex\"\n        ],\n        \"semantic_type\": \"\",\n        \"description\": \"\"\n      }\n    },\n    {\n      \"column\": \"webhltbeh\",\n      \"properties\": {\n        \"dtype\": \"category\",\n        \"num_unique_values\": 6,\n        \"samples\": [\n          \"webhltbeh\",\n          \"neither agree nor disagree\",\n          \"strongly agree\"\n        ],\n        \"semantic_type\": \"\",\n        \"description\": \"\"\n      }\n    },\n    {\n      \"column\": \"wwwhr\",\n      \"properties\": {\n        \"dtype\": \"category\",\n        \"num_unique_values\": 90,\n        \"samples\": [\n          \"18.0\",\n          \"25.0\",\n          \"66.0\"\n        ],\n        \"semantic_type\": \"\",\n        \"description\": \"\"\n      }\n    },\n    {\n      \"column\": \"happy\",\n      \"properties\": {\n        \"dtype\": \"category\",\n        \"num_unique_values\": 4,\n        \"samples\": [\n          \"pretty happy\",\n          \"happy\",\n          \"not too happy\"\n        ],\n        \"semantic_type\": \"\",\n        \"description\": \"\"\n      }\n    },\n    {\n      \"column\": \"health\",\n      \"properties\": {\n        \"dtype\": \"category\",\n        \"num_unique_values\": 5,\n        \"samples\": [\n          \"fair\",\n          \"health\",\n          \"excellent\"\n        ],\n        \"semantic_type\": \"\",\n        \"description\": \"\"\n      }\n    },\n    {\n      \"column\": \"life\",\n      \"properties\": {\n        \"dtype\": \"category\",\n        \"num_unique_values\": 4,\n        \"samples\": [\n          \"exciting\",\n          \"life\",\n          \"routine\"\n        ],\n        \"semantic_type\": \"\",\n        \"description\": \"\"\n      }\n    }\n  ]\n}"
            }
          },
          "metadata": {},
          "execution_count": 5
        }
      ]
    },
    {
      "cell_type": "code",
      "source": [
        "df.describe()"
      ],
      "metadata": {
        "id": "gbDgLjPRC7Bd",
        "outputId": "d841a606-10a0-4cc1-add5-9e107fcee02a",
        "colab": {
          "base_uri": "https://localhost:8080/",
          "height": 175
        }
      },
      "execution_count": 6,
      "outputs": [
        {
          "output_type": "execute_result",
          "data": {
            "text/plain": [
              "          age     sex                   webhltbeh  wwwhr         happy health  \\\n",
              "count   71623   72280                        1060  17188         67590  55156   \n",
              "unique     73       3                           6     90             4      5   \n",
              "top      30.0  female  neither agree nor disagree    1.0  pretty happy   good   \n",
              "freq     1571   40301                         449   1941         37813  25651   \n",
              "\n",
              "           life  \n",
              "count     44245  \n",
              "unique        4  \n",
              "top     routine  \n",
              "freq      21553  "
            ],
            "text/html": [
              "\n",
              "  <div id=\"df-6e73f5c9-5eeb-4e2e-9752-6d26ce761fc9\" class=\"colab-df-container\">\n",
              "    <div>\n",
              "<style scoped>\n",
              "    .dataframe tbody tr th:only-of-type {\n",
              "        vertical-align: middle;\n",
              "    }\n",
              "\n",
              "    .dataframe tbody tr th {\n",
              "        vertical-align: top;\n",
              "    }\n",
              "\n",
              "    .dataframe thead th {\n",
              "        text-align: right;\n",
              "    }\n",
              "</style>\n",
              "<table border=\"1\" class=\"dataframe\">\n",
              "  <thead>\n",
              "    <tr style=\"text-align: right;\">\n",
              "      <th></th>\n",
              "      <th>age</th>\n",
              "      <th>sex</th>\n",
              "      <th>webhltbeh</th>\n",
              "      <th>wwwhr</th>\n",
              "      <th>happy</th>\n",
              "      <th>health</th>\n",
              "      <th>life</th>\n",
              "    </tr>\n",
              "  </thead>\n",
              "  <tbody>\n",
              "    <tr>\n",
              "      <th>count</th>\n",
              "      <td>71623</td>\n",
              "      <td>72280</td>\n",
              "      <td>1060</td>\n",
              "      <td>17188</td>\n",
              "      <td>67590</td>\n",
              "      <td>55156</td>\n",
              "      <td>44245</td>\n",
              "    </tr>\n",
              "    <tr>\n",
              "      <th>unique</th>\n",
              "      <td>73</td>\n",
              "      <td>3</td>\n",
              "      <td>6</td>\n",
              "      <td>90</td>\n",
              "      <td>4</td>\n",
              "      <td>5</td>\n",
              "      <td>4</td>\n",
              "    </tr>\n",
              "    <tr>\n",
              "      <th>top</th>\n",
              "      <td>30.0</td>\n",
              "      <td>female</td>\n",
              "      <td>neither agree nor disagree</td>\n",
              "      <td>1.0</td>\n",
              "      <td>pretty happy</td>\n",
              "      <td>good</td>\n",
              "      <td>routine</td>\n",
              "    </tr>\n",
              "    <tr>\n",
              "      <th>freq</th>\n",
              "      <td>1571</td>\n",
              "      <td>40301</td>\n",
              "      <td>449</td>\n",
              "      <td>1941</td>\n",
              "      <td>37813</td>\n",
              "      <td>25651</td>\n",
              "      <td>21553</td>\n",
              "    </tr>\n",
              "  </tbody>\n",
              "</table>\n",
              "</div>\n",
              "    <div class=\"colab-df-buttons\">\n",
              "\n",
              "  <div class=\"colab-df-container\">\n",
              "    <button class=\"colab-df-convert\" onclick=\"convertToInteractive('df-6e73f5c9-5eeb-4e2e-9752-6d26ce761fc9')\"\n",
              "            title=\"Convert this dataframe to an interactive table.\"\n",
              "            style=\"display:none;\">\n",
              "\n",
              "  <svg xmlns=\"http://www.w3.org/2000/svg\" height=\"24px\" viewBox=\"0 -960 960 960\">\n",
              "    <path d=\"M120-120v-720h720v720H120Zm60-500h600v-160H180v160Zm220 220h160v-160H400v160Zm0 220h160v-160H400v160ZM180-400h160v-160H180v160Zm440 0h160v-160H620v160ZM180-180h160v-160H180v160Zm440 0h160v-160H620v160Z\"/>\n",
              "  </svg>\n",
              "    </button>\n",
              "\n",
              "  <style>\n",
              "    .colab-df-container {\n",
              "      display:flex;\n",
              "      gap: 12px;\n",
              "    }\n",
              "\n",
              "    .colab-df-convert {\n",
              "      background-color: #E8F0FE;\n",
              "      border: none;\n",
              "      border-radius: 50%;\n",
              "      cursor: pointer;\n",
              "      display: none;\n",
              "      fill: #1967D2;\n",
              "      height: 32px;\n",
              "      padding: 0 0 0 0;\n",
              "      width: 32px;\n",
              "    }\n",
              "\n",
              "    .colab-df-convert:hover {\n",
              "      background-color: #E2EBFA;\n",
              "      box-shadow: 0px 1px 2px rgba(60, 64, 67, 0.3), 0px 1px 3px 1px rgba(60, 64, 67, 0.15);\n",
              "      fill: #174EA6;\n",
              "    }\n",
              "\n",
              "    .colab-df-buttons div {\n",
              "      margin-bottom: 4px;\n",
              "    }\n",
              "\n",
              "    [theme=dark] .colab-df-convert {\n",
              "      background-color: #3B4455;\n",
              "      fill: #D2E3FC;\n",
              "    }\n",
              "\n",
              "    [theme=dark] .colab-df-convert:hover {\n",
              "      background-color: #434B5C;\n",
              "      box-shadow: 0px 1px 3px 1px rgba(0, 0, 0, 0.15);\n",
              "      filter: drop-shadow(0px 1px 2px rgba(0, 0, 0, 0.3));\n",
              "      fill: #FFFFFF;\n",
              "    }\n",
              "  </style>\n",
              "\n",
              "    <script>\n",
              "      const buttonEl =\n",
              "        document.querySelector('#df-6e73f5c9-5eeb-4e2e-9752-6d26ce761fc9 button.colab-df-convert');\n",
              "      buttonEl.style.display =\n",
              "        google.colab.kernel.accessAllowed ? 'block' : 'none';\n",
              "\n",
              "      async function convertToInteractive(key) {\n",
              "        const element = document.querySelector('#df-6e73f5c9-5eeb-4e2e-9752-6d26ce761fc9');\n",
              "        const dataTable =\n",
              "          await google.colab.kernel.invokeFunction('convertToInteractive',\n",
              "                                                    [key], {});\n",
              "        if (!dataTable) return;\n",
              "\n",
              "        const docLinkHtml = 'Like what you see? Visit the ' +\n",
              "          '<a target=\"_blank\" href=https://colab.research.google.com/notebooks/data_table.ipynb>data table notebook</a>'\n",
              "          + ' to learn more about interactive tables.';\n",
              "        element.innerHTML = '';\n",
              "        dataTable['output_type'] = 'display_data';\n",
              "        await google.colab.output.renderOutput(dataTable, element);\n",
              "        const docLink = document.createElement('div');\n",
              "        docLink.innerHTML = docLinkHtml;\n",
              "        element.appendChild(docLink);\n",
              "      }\n",
              "    </script>\n",
              "  </div>\n",
              "\n",
              "\n",
              "<div id=\"df-68db4449-90e9-4cf1-957e-a5ff66c9cd5c\">\n",
              "  <button class=\"colab-df-quickchart\" onclick=\"quickchart('df-68db4449-90e9-4cf1-957e-a5ff66c9cd5c')\"\n",
              "            title=\"Suggest charts\"\n",
              "            style=\"display:none;\">\n",
              "\n",
              "<svg xmlns=\"http://www.w3.org/2000/svg\" height=\"24px\"viewBox=\"0 0 24 24\"\n",
              "     width=\"24px\">\n",
              "    <g>\n",
              "        <path d=\"M19 3H5c-1.1 0-2 .9-2 2v14c0 1.1.9 2 2 2h14c1.1 0 2-.9 2-2V5c0-1.1-.9-2-2-2zM9 17H7v-7h2v7zm4 0h-2V7h2v10zm4 0h-2v-4h2v4z\"/>\n",
              "    </g>\n",
              "</svg>\n",
              "  </button>\n",
              "\n",
              "<style>\n",
              "  .colab-df-quickchart {\n",
              "      --bg-color: #E8F0FE;\n",
              "      --fill-color: #1967D2;\n",
              "      --hover-bg-color: #E2EBFA;\n",
              "      --hover-fill-color: #174EA6;\n",
              "      --disabled-fill-color: #AAA;\n",
              "      --disabled-bg-color: #DDD;\n",
              "  }\n",
              "\n",
              "  [theme=dark] .colab-df-quickchart {\n",
              "      --bg-color: #3B4455;\n",
              "      --fill-color: #D2E3FC;\n",
              "      --hover-bg-color: #434B5C;\n",
              "      --hover-fill-color: #FFFFFF;\n",
              "      --disabled-bg-color: #3B4455;\n",
              "      --disabled-fill-color: #666;\n",
              "  }\n",
              "\n",
              "  .colab-df-quickchart {\n",
              "    background-color: var(--bg-color);\n",
              "    border: none;\n",
              "    border-radius: 50%;\n",
              "    cursor: pointer;\n",
              "    display: none;\n",
              "    fill: var(--fill-color);\n",
              "    height: 32px;\n",
              "    padding: 0;\n",
              "    width: 32px;\n",
              "  }\n",
              "\n",
              "  .colab-df-quickchart:hover {\n",
              "    background-color: var(--hover-bg-color);\n",
              "    box-shadow: 0 1px 2px rgba(60, 64, 67, 0.3), 0 1px 3px 1px rgba(60, 64, 67, 0.15);\n",
              "    fill: var(--button-hover-fill-color);\n",
              "  }\n",
              "\n",
              "  .colab-df-quickchart-complete:disabled,\n",
              "  .colab-df-quickchart-complete:disabled:hover {\n",
              "    background-color: var(--disabled-bg-color);\n",
              "    fill: var(--disabled-fill-color);\n",
              "    box-shadow: none;\n",
              "  }\n",
              "\n",
              "  .colab-df-spinner {\n",
              "    border: 2px solid var(--fill-color);\n",
              "    border-color: transparent;\n",
              "    border-bottom-color: var(--fill-color);\n",
              "    animation:\n",
              "      spin 1s steps(1) infinite;\n",
              "  }\n",
              "\n",
              "  @keyframes spin {\n",
              "    0% {\n",
              "      border-color: transparent;\n",
              "      border-bottom-color: var(--fill-color);\n",
              "      border-left-color: var(--fill-color);\n",
              "    }\n",
              "    20% {\n",
              "      border-color: transparent;\n",
              "      border-left-color: var(--fill-color);\n",
              "      border-top-color: var(--fill-color);\n",
              "    }\n",
              "    30% {\n",
              "      border-color: transparent;\n",
              "      border-left-color: var(--fill-color);\n",
              "      border-top-color: var(--fill-color);\n",
              "      border-right-color: var(--fill-color);\n",
              "    }\n",
              "    40% {\n",
              "      border-color: transparent;\n",
              "      border-right-color: var(--fill-color);\n",
              "      border-top-color: var(--fill-color);\n",
              "    }\n",
              "    60% {\n",
              "      border-color: transparent;\n",
              "      border-right-color: var(--fill-color);\n",
              "    }\n",
              "    80% {\n",
              "      border-color: transparent;\n",
              "      border-right-color: var(--fill-color);\n",
              "      border-bottom-color: var(--fill-color);\n",
              "    }\n",
              "    90% {\n",
              "      border-color: transparent;\n",
              "      border-bottom-color: var(--fill-color);\n",
              "    }\n",
              "  }\n",
              "</style>\n",
              "\n",
              "  <script>\n",
              "    async function quickchart(key) {\n",
              "      const quickchartButtonEl =\n",
              "        document.querySelector('#' + key + ' button');\n",
              "      quickchartButtonEl.disabled = true;  // To prevent multiple clicks.\n",
              "      quickchartButtonEl.classList.add('colab-df-spinner');\n",
              "      try {\n",
              "        const charts = await google.colab.kernel.invokeFunction(\n",
              "            'suggestCharts', [key], {});\n",
              "      } catch (error) {\n",
              "        console.error('Error during call to suggestCharts:', error);\n",
              "      }\n",
              "      quickchartButtonEl.classList.remove('colab-df-spinner');\n",
              "      quickchartButtonEl.classList.add('colab-df-quickchart-complete');\n",
              "    }\n",
              "    (() => {\n",
              "      let quickchartButtonEl =\n",
              "        document.querySelector('#df-68db4449-90e9-4cf1-957e-a5ff66c9cd5c button');\n",
              "      quickchartButtonEl.style.display =\n",
              "        google.colab.kernel.accessAllowed ? 'block' : 'none';\n",
              "    })();\n",
              "  </script>\n",
              "</div>\n",
              "    </div>\n",
              "  </div>\n"
            ],
            "application/vnd.google.colaboratory.intrinsic+json": {
              "type": "dataframe",
              "summary": "{\n  \"name\": \"df\",\n  \"rows\": 4,\n  \"fields\": [\n    {\n      \"column\": \"age\",\n      \"properties\": {\n        \"dtype\": \"string\",\n        \"num_unique_values\": 4,\n        \"samples\": [\n          73,\n          \"1571\",\n          \"71623\"\n        ],\n        \"semantic_type\": \"\",\n        \"description\": \"\"\n      }\n    },\n    {\n      \"column\": \"sex\",\n      \"properties\": {\n        \"dtype\": \"string\",\n        \"num_unique_values\": 4,\n        \"samples\": [\n          3,\n          \"40301\",\n          \"72280\"\n        ],\n        \"semantic_type\": \"\",\n        \"description\": \"\"\n      }\n    },\n    {\n      \"column\": \"webhltbeh\",\n      \"properties\": {\n        \"dtype\": \"string\",\n        \"num_unique_values\": 4,\n        \"samples\": [\n          6,\n          \"449\",\n          \"1060\"\n        ],\n        \"semantic_type\": \"\",\n        \"description\": \"\"\n      }\n    },\n    {\n      \"column\": \"wwwhr\",\n      \"properties\": {\n        \"dtype\": \"string\",\n        \"num_unique_values\": 4,\n        \"samples\": [\n          90,\n          \"1941\",\n          \"17188\"\n        ],\n        \"semantic_type\": \"\",\n        \"description\": \"\"\n      }\n    },\n    {\n      \"column\": \"happy\",\n      \"properties\": {\n        \"dtype\": \"string\",\n        \"num_unique_values\": 4,\n        \"samples\": [\n          4,\n          \"37813\",\n          \"67590\"\n        ],\n        \"semantic_type\": \"\",\n        \"description\": \"\"\n      }\n    },\n    {\n      \"column\": \"health\",\n      \"properties\": {\n        \"dtype\": \"string\",\n        \"num_unique_values\": 4,\n        \"samples\": [\n          5,\n          \"25651\",\n          \"55156\"\n        ],\n        \"semantic_type\": \"\",\n        \"description\": \"\"\n      }\n    },\n    {\n      \"column\": \"life\",\n      \"properties\": {\n        \"dtype\": \"string\",\n        \"num_unique_values\": 4,\n        \"samples\": [\n          4,\n          \"21553\",\n          \"44245\"\n        ],\n        \"semantic_type\": \"\",\n        \"description\": \"\"\n      }\n    }\n  ]\n}"
            }
          },
          "metadata": {},
          "execution_count": 6
        }
      ]
    },
    {
      "cell_type": "markdown",
      "source": [
        "Cleaning the table"
      ],
      "metadata": {
        "id": "725884WhvMtg"
      }
    },
    {
      "cell_type": "code",
      "source": [
        "df.rename(columns = {'wwwhr' : 'hours_online'}, inplace = True )\n",
        "df.rename(columns = {'webhltbeh': 'web_effect_on_health'}, inplace = True)"
      ],
      "metadata": {
        "id": "X-4kFbGlvJ1v"
      },
      "execution_count": 7,
      "outputs": []
    },
    {
      "cell_type": "code",
      "source": [
        "df['hours_online'] = pd.to_numeric(df['hours_online'], errors = 'coerce')\n",
        "df['happy'].value_counts()"
      ],
      "metadata": {
        "id": "6wWM6sJpzKpR",
        "outputId": "0a1fe5cb-e9e3-44f3-9eb9-71dc4e95beb3",
        "colab": {
          "base_uri": "https://localhost:8080/"
        }
      },
      "execution_count": 11,
      "outputs": [
        {
          "output_type": "execute_result",
          "data": {
            "text/plain": [
              "good         25651\n",
              "excellent    15712\n",
              "fair         10737\n",
              "poor          3054\n",
              "health           2\n",
              "Name: health, dtype: int64"
            ]
          },
          "metadata": {},
          "execution_count": 11
        }
      ]
    },
    {
      "cell_type": "code",
      "source": [
        "df['health'].value_counts()"
      ],
      "metadata": {
        "id": "YZfwQ5qwEoGE",
        "outputId": "8d7fd1f2-d500-4d8d-e967-d91337dae027",
        "colab": {
          "base_uri": "https://localhost:8080/"
        }
      },
      "execution_count": 12,
      "outputs": [
        {
          "output_type": "execute_result",
          "data": {
            "text/plain": [
              "good         25651\n",
              "excellent    15712\n",
              "fair         10737\n",
              "poor          3054\n",
              "health           2\n",
              "Name: health, dtype: int64"
            ]
          },
          "metadata": {},
          "execution_count": 12
        }
      ]
    },
    {
      "cell_type": "markdown",
      "source": [
        "Looking at the relationship between HEALTH, GENDER, AND SOCIAL MEDIA HOURS"
      ],
      "metadata": {
        "id": "eTjTFl_-rgUh"
      }
    },
    {
      "cell_type": "code",
      "source": [
        "health_unique = df['health'].unique()\n",
        "gender_unique = df['sex'].unique()\n",
        "hours_unique = df['hours_online'].unique()\n",
        "\n",
        "print(\"Health Unique\", health_unique)\n",
        "print(\"Gender Unique\", gender_unique)\n",
        "print(\"Hours Unique\", hours_unique)"
      ],
      "metadata": {
        "colab": {
          "base_uri": "https://localhost:8080/"
        },
        "id": "VRMrB4rUwIyu",
        "outputId": "67b9730d-9bed-430e-bb10-fd5bd5aea368"
      },
      "execution_count": null,
      "outputs": [
        {
          "output_type": "stream",
          "name": "stdout",
          "text": [
            "Health Unique ['good' 'fair' 'excellent' 'poor' nan 'health']\n",
            "Gender Unique ['female' 'male' 'sex' nan]\n",
            "Hours Unique [ nan   5.   2.   1.   0.   6.   7.   8.   3.   4.  30.  10.  50.  21.\n",
            "  23.  40.  12.  20.  16.  15.  60.  14.  25.  46.   9.  17.  13.  98.\n",
            "  28.  42.  35.  45.  36.  11.  32. 112.  22.  24.  64.  29.  18. 100.\n",
            "  48.  37.  27.  26.  65.  70. 130.  49.  72.  55.  75.  80. 168.  66.\n",
            " 120.  38.  19.  84.  63.  33. 122.  90.  91. 132.  85. 140.  86.  34.\n",
            "  56.  47.  43. 105.  95.  83.  57.  68. 125. 110. 150. 160.  39.  96.\n",
            "  54.  76.  51. 119.  41. 126.]\n"
          ]
        }
      ]
    },
    {
      "cell_type": "code",
      "source": [
        "health_missing = df['health'].isnull().sum()\n",
        "gender_missing = df['sex'].isnull().sum()\n",
        "hours_missing = df['hours_online'].isnull().sum()\n",
        "\n",
        "print(health_missing, gender_missing, hours_missing)"
      ],
      "metadata": {
        "colab": {
          "base_uri": "https://localhost:8080/"
        },
        "id": "NsQF1UdexCZ_",
        "outputId": "79af40ba-8dd2-4be5-81b7-e5dba4fa00a3"
      },
      "execution_count": null,
      "outputs": [
        {
          "output_type": "stream",
          "name": "stdout",
          "text": [
            "17236 112 55206\n"
          ]
        }
      ]
    },
    {
      "cell_type": "markdown",
      "source": [
        "Removing / Imputing Variables"
      ],
      "metadata": {
        "id": "2d_0vFcE4DsF"
      }
    },
    {
      "cell_type": "code",
      "source": [
        "#NA for sex is so small so drop, also dropping health because hard to impute categorical variable\n",
        "df = df.dropna(subset = ['sex', 'health', 'hours_online', 'happy'])\n",
        "\n",
        "#Impute values for hours_missing, commented out because with how many hours_online we are missing setting the rest to the mean results in little variation for graphs\n",
        "#df['hours_online'].fillna(df['hours_online'].mean(), inplace = True)"
      ],
      "metadata": {
        "id": "4DG4v6LmxwtN"
      },
      "execution_count": 13,
      "outputs": []
    },
    {
      "cell_type": "markdown",
      "source": [
        "Make boxplot to compare male vs female online habits and impact on health"
      ],
      "metadata": {
        "id": "0uZI3HOLztCR"
      }
    },
    {
      "cell_type": "code",
      "source": [
        "df['hours_online_arcsinh'] = np.arcsinh(df['hours_online'])"
      ],
      "metadata": {
        "colab": {
          "base_uri": "https://localhost:8080/"
        },
        "id": "rfGXhAYC2A99",
        "outputId": "b0c938f3-063e-4be6-9980-454ccbe01779"
      },
      "execution_count": null,
      "outputs": [
        {
          "output_type": "stream",
          "name": "stderr",
          "text": [
            "<ipython-input-55-739650919624>:1: SettingWithCopyWarning: \n",
            "A value is trying to be set on a copy of a slice from a DataFrame.\n",
            "Try using .loc[row_indexer,col_indexer] = value instead\n",
            "\n",
            "See the caveats in the documentation: https://pandas.pydata.org/pandas-docs/stable/user_guide/indexing.html#returning-a-view-versus-a-copy\n",
            "  df['hours_online_arcsinh'] = np.arcsinh(df['hours_online'])\n"
          ]
        }
      ]
    },
    {
      "cell_type": "code",
      "source": [
        "sns.boxplot(x='health', y='hours_online_arcsinh', data=df, hue='sex')\n",
        "plt.title('Hours online normalized across gender and health')\n",
        "plt.xlabel('Health Categorical Variable')\n",
        "plt.ylabel('Time Spent Online in Hours Normalized')\n",
        "plt.legend(bbox_to_anchor=(1, 1), loc='upper left')\n",
        "\n"
      ],
      "metadata": {
        "colab": {
          "base_uri": "https://localhost:8080/",
          "height": 489
        },
        "id": "txlDjfElyGWZ",
        "outputId": "b7d793f2-5555-4f56-a919-e0fdc7bb6c90"
      },
      "execution_count": null,
      "outputs": [
        {
          "output_type": "execute_result",
          "data": {
            "text/plain": [
              "<matplotlib.legend.Legend at 0x7ac68e9ba3e0>"
            ]
          },
          "metadata": {},
          "execution_count": 56
        },
        {
          "output_type": "display_data",
          "data": {
            "text/plain": [
              "<Figure size 640x480 with 1 Axes>"
            ],
            "image/png": "[encoded data removed]"
          },
          "metadata": {}
        }
      ]
    },
    {
      "cell_type": "markdown",
      "source": [
        "Is there a similar distribution of health outcomes to each gender? It appears so"
      ],
      "metadata": {
        "id": "rR9pHCkT5tyV"
      }
    },
    {
      "cell_type": "code",
      "source": [
        "frequency_table_percent = pd.crosstab(df['health'], df['sex'], normalize='columns') * 100\n",
        "print(frequency_table_percent)"
      ],
      "metadata": {
        "colab": {
          "base_uri": "https://localhost:8080/"
        },
        "id": "6MUXMN8q5Qo4",
        "outputId": "d9203f21-8e6a-4f9a-a93f-f5d9e65dcce4"
      },
      "execution_count": null,
      "outputs": [
        {
          "output_type": "stream",
          "name": "stdout",
          "text": [
            "sex           female       male\n",
            "health                         \n",
            "excellent  27.234309  26.966292\n",
            "fair       17.060573  18.052434\n",
            "good       51.619972  51.722846\n",
            "poor        4.085146   3.258427\n"
          ]
        }
      ]
    },
    {
      "cell_type": "code",
      "source": [
        "median_vals = df.groupby(['health', 'sex'])['hours_online'].median()\n",
        "print(median_vals)"
      ],
      "metadata": {
        "colab": {
          "base_uri": "https://localhost:8080/"
        },
        "id": "M2e3GEO35RBJ",
        "outputId": "241b98be-7343-408a-aba3-c6b10abcc9fa"
      },
      "execution_count": null,
      "outputs": [
        {
          "output_type": "stream",
          "name": "stdout",
          "text": [
            "health     sex   \n",
            "excellent  female    5.0\n",
            "           male      7.0\n",
            "fair       female    5.0\n",
            "           male      6.0\n",
            "good       female    5.0\n",
            "           male      7.0\n",
            "poor       female    5.0\n",
            "           male      8.0\n",
            "Name: hours_online, dtype: float64\n"
          ]
        }
      ]
    },
    {
      "cell_type": "code",
      "source": [
        "print(df['age'].dtype)\n",
        "print(df['hours_online'].dtype)\n",
        "\n",
        "df['age'] = pd.to_numeric(df['age'], errors = 'coerce').astype('Int64')\n",
        "\n",
        "sns.kdeplot(data = df, x = 'age', y = 'hours_online')"
      ],
      "metadata": {
        "id": "EYim6yrA6qe4",
        "colab": {
          "base_uri": "https://localhost:8080/",
          "height": 500
        },
        "outputId": "97de8fce-8bcf-4d1d-a26f-e40737f59cf4"
      },
      "execution_count": null,
      "outputs": [
        {
          "output_type": "stream",
          "name": "stdout",
          "text": [
            "object\n",
            "float64\n"
          ]
        },
        {
          "output_type": "execute_result",
          "data": {
            "text/plain": [
              "<Axes: xlabel='age', ylabel='hours_online'>"
            ]
          },
          "metadata": {},
          "execution_count": 59
        },
        {
          "output_type": "display_data",
          "data": {
            "text/plain": [
              "<Figure size 640x480 with 1 Axes>"
            ],
            "image/png": "[encoded data removed]"
          },
          "metadata": {}
        }
      ]
    },
    {
      "cell_type": "code",
      "source": [
        "#https://pandas.pydata.org/docs/reference/api/pandas.cut.html\n",
        "bins = [-1, 5, 10, 15, 100]\n",
        "labels = ['Less than 5', '5-10', '10-15', '15+']\n",
        "\n",
        "df['hours_online_bins'] = pd.cut(df['hours_online'], bins=bins, labels=labels)"
      ],
      "metadata": {
        "id": "yMBkXSGDjmqP"
      },
      "execution_count": null,
      "outputs": []
    },
    {
      "cell_type": "code",
      "source": [
        "df.head(20)\n"
      ],
      "metadata": {
        "colab": {
          "base_uri": "https://localhost:8080/",
          "height": 669
        },
        "id": "kWwNjdenlQNm",
        "outputId": "b13427b9-685d-47f0-97b1-7a1b6cc356f0"
      },
      "execution_count": null,
      "outputs": [
        {
          "output_type": "execute_result",
          "data": {
            "text/plain": [
              "       age     sex webhltbeh  hours_online         happy     health      life  \\\n",
              "38117   26    male       NaN           5.0  pretty happy  excellent  exciting   \n",
              "38123   36    male       NaN           0.0    very happy       good  exciting   \n",
              "38125   44    male       NaN           1.0  pretty happy  excellent       NaN   \n",
              "38128   52    male       NaN           6.0  pretty happy       good  exciting   \n",
              "38129   52    male       NaN           1.0  pretty happy       good   routine   \n",
              "38130   51    male       NaN           0.0    very happy  excellent  exciting   \n",
              "38131   52  female       NaN           2.0  pretty happy  excellent       NaN   \n",
              "38138   49  female       NaN           7.0    very happy  excellent  exciting   \n",
              "38139   19    male       NaN           0.0  pretty happy  excellent   routine   \n",
              "38140   54    male       NaN           1.0  pretty happy       good  exciting   \n",
              "38150   37    male       NaN           1.0  pretty happy       fair   routine   \n",
              "38153   37    male       NaN           8.0           NaN       good      dull   \n",
              "38155   29    male       NaN           2.0  pretty happy       good  exciting   \n",
              "38157   31  female       NaN           3.0  pretty happy       fair   routine   \n",
              "38165   56  female       NaN           0.0    very happy  excellent  exciting   \n",
              "38166   66    male       NaN           6.0  pretty happy       good       NaN   \n",
              "38167   20    male       NaN           2.0  pretty happy       good       NaN   \n",
              "38172   39  female       NaN           0.0  pretty happy       good  exciting   \n",
              "38173   51  female       NaN           1.0    very happy       good  exciting   \n",
              "38174   45  female       NaN           2.0  pretty happy  excellent   routine   \n",
              "\n",
              "       hours_online_arcsinh      age_bins hours_online_bins  \n",
              "38117              2.312438         20-40       Less than 5  \n",
              "38123              0.000000         20-40       Less than 5  \n",
              "38125              0.881374         40-60       Less than 5  \n",
              "38128              2.491780         40-60              5-10  \n",
              "38129              0.881374         40-60       Less than 5  \n",
              "38130              0.000000         40-60       Less than 5  \n",
              "38131              1.443635         40-60       Less than 5  \n",
              "38138              2.644121         40-60              5-10  \n",
              "38139              0.000000  Less than 20       Less than 5  \n",
              "38140              0.881374         40-60       Less than 5  \n",
              "38150              0.881374         20-40       Less than 5  \n",
              "38153              2.776472         20-40              5-10  \n",
              "38155              1.443635         20-40       Less than 5  \n",
              "38157              1.818446         20-40       Less than 5  \n",
              "38165              0.000000         40-60       Less than 5  \n",
              "38166              2.491780           60+              5-10  \n",
              "38167              1.443635  Less than 20       Less than 5  \n",
              "38172              0.000000         20-40       Less than 5  \n",
              "38173              0.881374         40-60       Less than 5  \n",
              "38174              1.443635         40-60       Less than 5  "
            ],
            "text/html": [
              "\n",
              "  <div id=\"df-680a2fb8-4c7c-44f2-a640-2969f6d7d2d4\" class=\"colab-df-container\">\n",
              "    <div>\n",
              "<style scoped>\n",
              "    .dataframe tbody tr th:only-of-type {\n",
              "        vertical-align: middle;\n",
              "    }\n",
              "\n",
              "    .dataframe tbody tr th {\n",
              "        vertical-align: top;\n",
              "    }\n",
              "\n",
              "    .dataframe thead th {\n",
              "        text-align: right;\n",
              "    }\n",
              "</style>\n",
              "<table border=\"1\" class=\"dataframe\">\n",
              "  <thead>\n",
              "    <tr style=\"text-align: right;\">\n",
              "      <th></th>\n",
              "      <th>age</th>\n",
              "      <th>sex</th>\n",
              "      <th>webhltbeh</th>\n",
              "      <th>hours_online</th>\n",
              "      <th>happy</th>\n",
              "      <th>health</th>\n",
              "      <th>life</th>\n",
              "      <th>hours_online_arcsinh</th>\n",
              "      <th>age_bins</th>\n",
              "      <th>hours_online_bins</th>\n",
              "    </tr>\n",
              "  </thead>\n",
              "  <tbody>\n",
              "    <tr>\n",
              "      <th>38117</th>\n",
              "      <td>26</td>\n",
              "      <td>male</td>\n",
              "      <td>NaN</td>\n",
              "      <td>5.0</td>\n",
              "      <td>pretty happy</td>\n",
              "      <td>excellent</td>\n",
              "      <td>exciting</td>\n",
              "      <td>2.312438</td>\n",
              "      <td>20-40</td>\n",
              "      <td>Less than 5</td>\n",
              "    </tr>\n",
              "    <tr>\n",
              "      <th>38123</th>\n",
              "      <td>36</td>\n",
              "      <td>male</td>\n",
              "      <td>NaN</td>\n",
              "      <td>0.0</td>\n",
              "      <td>very happy</td>\n",
              "      <td>good</td>\n",
              "      <td>exciting</td>\n",
              "      <td>0.000000</td>\n",
              "      <td>20-40</td>\n",
              "      <td>Less than 5</td>\n",
              "    </tr>\n",
              "    <tr>\n",
              "      <th>38125</th>\n",
              "      <td>44</td>\n",
              "      <td>male</td>\n",
              "      <td>NaN</td>\n",
              "      <td>1.0</td>\n",
              "      <td>pretty happy</td>\n",
              "      <td>excellent</td>\n",
              "      <td>NaN</td>\n",
              "      <td>0.881374</td>\n",
              "      <td>40-60</td>\n",
              "      <td>Less than 5</td>\n",
              "    </tr>\n",
              "    <tr>\n",
              "      <th>38128</th>\n",
              "      <td>52</td>\n",
              "      <td>male</td>\n",
              "      <td>NaN</td>\n",
              "      <td>6.0</td>\n",
              "      <td>pretty happy</td>\n",
              "      <td>good</td>\n",
              "      <td>exciting</td>\n",
              "      <td>2.491780</td>\n",
              "      <td>40-60</td>\n",
              "      <td>5-10</td>\n",
              "    </tr>\n",
              "    <tr>\n",
              "      <th>38129</th>\n",
              "      <td>52</td>\n",
              "      <td>male</td>\n",
              "      <td>NaN</td>\n",
              "      <td>1.0</td>\n",
              "      <td>pretty happy</td>\n",
              "      <td>good</td>\n",
              "      <td>routine</td>\n",
              "      <td>0.881374</td>\n",
              "      <td>40-60</td>\n",
              "      <td>Less than 5</td>\n",
              "    </tr>\n",
              "    <tr>\n",
              "      <th>38130</th>\n",
              "      <td>51</td>\n",
              "      <td>male</td>\n",
              "      <td>NaN</td>\n",
              "      <td>0.0</td>\n",
              "      <td>very happy</td>\n",
              "      <td>excellent</td>\n",
              "      <td>exciting</td>\n",
              "      <td>0.000000</td>\n",
              "      <td>40-60</td>\n",
              "      <td>Less than 5</td>\n",
              "    </tr>\n",
              "    <tr>\n",
              "      <th>38131</th>\n",
              "      <td>52</td>\n",
              "      <td>female</td>\n",
              "      <td>NaN</td>\n",
              "      <td>2.0</td>\n",
              "      <td>pretty happy</td>\n",
              "      <td>excellent</td>\n",
              "      <td>NaN</td>\n",
              "      <td>1.443635</td>\n",
              "      <td>40-60</td>\n",
              "      <td>Less than 5</td>\n",
              "    </tr>\n",
              "    <tr>\n",
              "      <th>38138</th>\n",
              "      <td>49</td>\n",
              "      <td>female</td>\n",
              "      <td>NaN</td>\n",
              "      <td>7.0</td>\n",
              "      <td>very happy</td>\n",
              "      <td>excellent</td>\n",
              "      <td>exciting</td>\n",
              "      <td>2.644121</td>\n",
              "      <td>40-60</td>\n",
              "      <td>5-10</td>\n",
              "    </tr>\n",
              "    <tr>\n",
              "      <th>38139</th>\n",
              "      <td>19</td>\n",
              "      <td>male</td>\n",
              "      <td>NaN</td>\n",
              "      <td>0.0</td>\n",
              "      <td>pretty happy</td>\n",
              "      <td>excellent</td>\n",
              "      <td>routine</td>\n",
              "      <td>0.000000</td>\n",
              "      <td>Less than 20</td>\n",
              "      <td>Less than 5</td>\n",
              "    </tr>\n",
              "    <tr>\n",
              "      <th>38140</th>\n",
              "      <td>54</td>\n",
              "      <td>male</td>\n",
              "      <td>NaN</td>\n",
              "      <td>1.0</td>\n",
              "      <td>pretty happy</td>\n",
              "      <td>good</td>\n",
              "      <td>exciting</td>\n",
              "      <td>0.881374</td>\n",
              "      <td>40-60</td>\n",
              "      <td>Less than 5</td>\n",
              "    </tr>\n",
              "    <tr>\n",
              "      <th>38150</th>\n",
              "      <td>37</td>\n",
              "      <td>male</td>\n",
              "      <td>NaN</td>\n",
              "      <td>1.0</td>\n",
              "      <td>pretty happy</td>\n",
              "      <td>fair</td>\n",
              "      <td>routine</td>\n",
              "      <td>0.881374</td>\n",
              "      <td>20-40</td>\n",
              "      <td>Less than 5</td>\n",
              "    </tr>\n",
              "    <tr>\n",
              "      <th>38153</th>\n",
              "      <td>37</td>\n",
              "      <td>male</td>\n",
              "      <td>NaN</td>\n",
              "      <td>8.0</td>\n",
              "      <td>NaN</td>\n",
              "      <td>good</td>\n",
              "      <td>dull</td>\n",
              "      <td>2.776472</td>\n",
              "      <td>20-40</td>\n",
              "      <td>5-10</td>\n",
              "    </tr>\n",
              "    <tr>\n",
              "      <th>38155</th>\n",
              "      <td>29</td>\n",
              "      <td>male</td>\n",
              "      <td>NaN</td>\n",
              "      <td>2.0</td>\n",
              "      <td>pretty happy</td>\n",
              "      <td>good</td>\n",
              "      <td>exciting</td>\n",
              "      <td>1.443635</td>\n",
              "      <td>20-40</td>\n",
              "      <td>Less than 5</td>\n",
              "    </tr>\n",
              "    <tr>\n",
              "      <th>38157</th>\n",
              "      <td>31</td>\n",
              "      <td>female</td>\n",
              "      <td>NaN</td>\n",
              "      <td>3.0</td>\n",
              "      <td>pretty happy</td>\n",
              "      <td>fair</td>\n",
              "      <td>routine</td>\n",
              "      <td>1.818446</td>\n",
              "      <td>20-40</td>\n",
              "      <td>Less than 5</td>\n",
              "    </tr>\n",
              "    <tr>\n",
              "      <th>38165</th>\n",
              "      <td>56</td>\n",
              "      <td>female</td>\n",
              "      <td>NaN</td>\n",
              "      <td>0.0</td>\n",
              "      <td>very happy</td>\n",
              "      <td>excellent</td>\n",
              "      <td>exciting</td>\n",
              "      <td>0.000000</td>\n",
              "      <td>40-60</td>\n",
              "      <td>Less than 5</td>\n",
              "    </tr>\n",
              "    <tr>\n",
              "      <th>38166</th>\n",
              "      <td>66</td>\n",
              "      <td>male</td>\n",
              "      <td>NaN</td>\n",
              "      <td>6.0</td>\n",
              "      <td>pretty happy</td>\n",
              "      <td>good</td>\n",
              "      <td>NaN</td>\n",
              "      <td>2.491780</td>\n",
              "      <td>60+</td>\n",
              "      <td>5-10</td>\n",
              "    </tr>\n",
              "    <tr>\n",
              "      <th>38167</th>\n",
              "      <td>20</td>\n",
              "      <td>male</td>\n",
              "      <td>NaN</td>\n",
              "      <td>2.0</td>\n",
              "      <td>pretty happy</td>\n",
              "      <td>good</td>\n",
              "      <td>NaN</td>\n",
              "      <td>1.443635</td>\n",
              "      <td>Less than 20</td>\n",
              "      <td>Less than 5</td>\n",
              "    </tr>\n",
              "    <tr>\n",
              "      <th>38172</th>\n",
              "      <td>39</td>\n",
              "      <td>female</td>\n",
              "      <td>NaN</td>\n",
              "      <td>0.0</td>\n",
              "      <td>pretty happy</td>\n",
              "      <td>good</td>\n",
              "      <td>exciting</td>\n",
              "      <td>0.000000</td>\n",
              "      <td>20-40</td>\n",
              "      <td>Less than 5</td>\n",
              "    </tr>\n",
              "    <tr>\n",
              "      <th>38173</th>\n",
              "      <td>51</td>\n",
              "      <td>female</td>\n",
              "      <td>NaN</td>\n",
              "      <td>1.0</td>\n",
              "      <td>very happy</td>\n",
              "      <td>good</td>\n",
              "      <td>exciting</td>\n",
              "      <td>0.881374</td>\n",
              "      <td>40-60</td>\n",
              "      <td>Less than 5</td>\n",
              "    </tr>\n",
              "    <tr>\n",
              "      <th>38174</th>\n",
              "      <td>45</td>\n",
              "      <td>female</td>\n",
              "      <td>NaN</td>\n",
              "      <td>2.0</td>\n",
              "      <td>pretty happy</td>\n",
              "      <td>excellent</td>\n",
              "      <td>routine</td>\n",
              "      <td>1.443635</td>\n",
              "      <td>40-60</td>\n",
              "      <td>Less than 5</td>\n",
              "    </tr>\n",
              "  </tbody>\n",
              "</table>\n",
              "</div>\n",
              "    <div class=\"colab-df-buttons\">\n",
              "\n",
              "  <div class=\"colab-df-container\">\n",
              "    <button class=\"colab-df-convert\" onclick=\"convertToInteractive('df-680a2fb8-4c7c-44f2-a640-2969f6d7d2d4')\"\n",
              "            title=\"Convert this dataframe to an interactive table.\"\n",
              "            style=\"display:none;\">\n",
              "\n",
              "  <svg xmlns=\"http://www.w3.org/2000/svg\" height=\"24px\" viewBox=\"0 -960 960 960\">\n",
              "    <path d=\"M120-120v-720h720v720H120Zm60-500h600v-160H180v160Zm220 220h160v-160H400v160Zm0 220h160v-160H400v160ZM180-400h160v-160H180v160Zm440 0h160v-160H620v160ZM180-180h160v-160H180v160Zm440 0h160v-160H620v160Z\"/>\n",
              "  </svg>\n",
              "    </button>\n",
              "\n",
              "  <style>\n",
              "    .colab-df-container {\n",
              "      display:flex;\n",
              "      gap: 12px;\n",
              "    }\n",
              "\n",
              "    .colab-df-convert {\n",
              "      background-color: #E8F0FE;\n",
              "      border: none;\n",
              "      border-radius: 50%;\n",
              "      cursor: pointer;\n",
              "      display: none;\n",
              "      fill: #1967D2;\n",
              "      height: 32px;\n",
              "      padding: 0 0 0 0;\n",
              "      width: 32px;\n",
              "    }\n",
              "\n",
              "    .colab-df-convert:hover {\n",
              "      background-color: #E2EBFA;\n",
              "      box-shadow: 0px 1px 2px rgba(60, 64, 67, 0.3), 0px 1px 3px 1px rgba(60, 64, 67, 0.15);\n",
              "      fill: #174EA6;\n",
              "    }\n",
              "\n",
              "    .colab-df-buttons div {\n",
              "      margin-bottom: 4px;\n",
              "    }\n",
              "\n",
              "    [theme=dark] .colab-df-convert {\n",
              "      background-color: #3B4455;\n",
              "      fill: #D2E3FC;\n",
              "    }\n",
              "\n",
              "    [theme=dark] .colab-df-convert:hover {\n",
              "      background-color: #434B5C;\n",
              "      box-shadow: 0px 1px 3px 1px rgba(0, 0, 0, 0.15);\n",
              "      filter: drop-shadow(0px 1px 2px rgba(0, 0, 0, 0.3));\n",
              "      fill: #FFFFFF;\n",
              "    }\n",
              "  </style>\n",
              "\n",
              "    <script>\n",
              "      const buttonEl =\n",
              "        document.querySelector('#df-680a2fb8-4c7c-44f2-a640-2969f6d7d2d4 button.colab-df-convert');\n",
              "      buttonEl.style.display =\n",
              "        google.colab.kernel.accessAllowed ? 'block' : 'none';\n",
              "\n",
              "      async function convertToInteractive(key) {\n",
              "        const element = document.querySelector('#df-680a2fb8-4c7c-44f2-a640-2969f6d7d2d4');\n",
              "        const dataTable =\n",
              "          await google.colab.kernel.invokeFunction('convertToInteractive',\n",
              "                                                    [key], {});\n",
              "        if (!dataTable) return;\n",
              "\n",
              "        const docLinkHtml = 'Like what you see? Visit the ' +\n",
              "          '<a target=\"_blank\" href=https://colab.research.google.com/notebooks/data_table.ipynb>data table notebook</a>'\n",
              "          + ' to learn more about interactive tables.';\n",
              "        element.innerHTML = '';\n",
              "        dataTable['output_type'] = 'display_data';\n",
              "        await google.colab.output.renderOutput(dataTable, element);\n",
              "        const docLink = document.createElement('div');\n",
              "        docLink.innerHTML = docLinkHtml;\n",
              "        element.appendChild(docLink);\n",
              "      }\n",
              "    </script>\n",
              "  </div>\n",
              "\n",
              "\n",
              "<div id=\"df-45d0c5f2-b944-4624-96c5-6e6aed9d1cc9\">\n",
              "  <button class=\"colab-df-quickchart\" onclick=\"quickchart('df-45d0c5f2-b944-4624-96c5-6e6aed9d1cc9')\"\n",
              "            title=\"Suggest charts\"\n",
              "            style=\"display:none;\">\n",
              "\n",
              "<svg xmlns=\"http://www.w3.org/2000/svg\" height=\"24px\"viewBox=\"0 0 24 24\"\n",
              "     width=\"24px\">\n",
              "    <g>\n",
              "        <path d=\"M19 3H5c-1.1 0-2 .9-2 2v14c0 1.1.9 2 2 2h14c1.1 0 2-.9 2-2V5c0-1.1-.9-2-2-2zM9 17H7v-7h2v7zm4 0h-2V7h2v10zm4 0h-2v-4h2v4z\"/>\n",
              "    </g>\n",
              "</svg>\n",
              "  </button>\n",
              "\n",
              "<style>\n",
              "  .colab-df-quickchart {\n",
              "      --bg-color: #E8F0FE;\n",
              "      --fill-color: #1967D2;\n",
              "      --hover-bg-color: #E2EBFA;\n",
              "      --hover-fill-color: #174EA6;\n",
              "      --disabled-fill-color: #AAA;\n",
              "      --disabled-bg-color: #DDD;\n",
              "  }\n",
              "\n",
              "  [theme=dark] .colab-df-quickchart {\n",
              "      --bg-color: #3B4455;\n",
              "      --fill-color: #D2E3FC;\n",
              "      --hover-bg-color: #434B5C;\n",
              "      --hover-fill-color: #FFFFFF;\n",
              "      --disabled-bg-color: #3B4455;\n",
              "      --disabled-fill-color: #666;\n",
              "  }\n",
              "\n",
              "  .colab-df-quickchart {\n",
              "    background-color: var(--bg-color);\n",
              "    border: none;\n",
              "    border-radius: 50%;\n",
              "    cursor: pointer;\n",
              "    display: none;\n",
              "    fill: var(--fill-color);\n",
              "    height: 32px;\n",
              "    padding: 0;\n",
              "    width: 32px;\n",
              "  }\n",
              "\n",
              "  .colab-df-quickchart:hover {\n",
              "    background-color: var(--hover-bg-color);\n",
              "    box-shadow: 0 1px 2px rgba(60, 64, 67, 0.3), 0 1px 3px 1px rgba(60, 64, 67, 0.15);\n",
              "    fill: var(--button-hover-fill-color);\n",
              "  }\n",
              "\n",
              "  .colab-df-quickchart-complete:disabled,\n",
              "  .colab-df-quickchart-complete:disabled:hover {\n",
              "    background-color: var(--disabled-bg-color);\n",
              "    fill: var(--disabled-fill-color);\n",
              "    box-shadow: none;\n",
              "  }\n",
              "\n",
              "  .colab-df-spinner {\n",
              "    border: 2px solid var(--fill-color);\n",
              "    border-color: transparent;\n",
              "    border-bottom-color: var(--fill-color);\n",
              "    animation:\n",
              "      spin 1s steps(1) infinite;\n",
              "  }\n",
              "\n",
              "  @keyframes spin {\n",
              "    0% {\n",
              "      border-color: transparent;\n",
              "      border-bottom-color: var(--fill-color);\n",
              "      border-left-color: var(--fill-color);\n",
              "    }\n",
              "    20% {\n",
              "      border-color: transparent;\n",
              "      border-left-color: var(--fill-color);\n",
              "      border-top-color: var(--fill-color);\n",
              "    }\n",
              "    30% {\n",
              "      border-color: transparent;\n",
              "      border-left-color: var(--fill-color);\n",
              "      border-top-color: var(--fill-color);\n",
              "      border-right-color: var(--fill-color);\n",
              "    }\n",
              "    40% {\n",
              "      border-color: transparent;\n",
              "      border-right-color: var(--fill-color);\n",
              "      border-top-color: var(--fill-color);\n",
              "    }\n",
              "    60% {\n",
              "      border-color: transparent;\n",
              "      border-right-color: var(--fill-color);\n",
              "    }\n",
              "    80% {\n",
              "      border-color: transparent;\n",
              "      border-right-color: var(--fill-color);\n",
              "      border-bottom-color: var(--fill-color);\n",
              "    }\n",
              "    90% {\n",
              "      border-color: transparent;\n",
              "      border-bottom-color: var(--fill-color);\n",
              "    }\n",
              "  }\n",
              "</style>\n",
              "\n",
              "  <script>\n",
              "    async function quickchart(key) {\n",
              "      const quickchartButtonEl =\n",
              "        document.querySelector('#' + key + ' button');\n",
              "      quickchartButtonEl.disabled = true;  // To prevent multiple clicks.\n",
              "      quickchartButtonEl.classList.add('colab-df-spinner');\n",
              "      try {\n",
              "        const charts = await google.colab.kernel.invokeFunction(\n",
              "            'suggestCharts', [key], {});\n",
              "      } catch (error) {\n",
              "        console.error('Error during call to suggestCharts:', error);\n",
              "      }\n",
              "      quickchartButtonEl.classList.remove('colab-df-spinner');\n",
              "      quickchartButtonEl.classList.add('colab-df-quickchart-complete');\n",
              "    }\n",
              "    (() => {\n",
              "      let quickchartButtonEl =\n",
              "        document.querySelector('#df-45d0c5f2-b944-4624-96c5-6e6aed9d1cc9 button');\n",
              "      quickchartButtonEl.style.display =\n",
              "        google.colab.kernel.accessAllowed ? 'block' : 'none';\n",
              "    })();\n",
              "  </script>\n",
              "</div>\n",
              "    </div>\n",
              "  </div>\n"
            ],
            "application/vnd.google.colaboratory.intrinsic+json": {
              "type": "dataframe",
              "variable_name": "df",
              "repr_error": "'str' object has no attribute 'empty'"
            }
          },
          "metadata": {},
          "execution_count": 90
        }
      ]
    },
    {
      "cell_type": "code",
      "source": [
        "sns.countplot(x='hours_online_bins', hue='health', data=df, stat='percent', palette = 'dark:salmon_r')\n",
        "plt.xlabel('Hours Online')\n",
        "plt.ylabel('Percent of Total Observations')\n",
        "plt.title('Distribution of health based on time spent online')\n",
        "plt.legend(title='Health')\n",
        "\n",
        "\n"
      ],
      "metadata": {
        "colab": {
          "base_uri": "https://localhost:8080/",
          "height": 489
        },
        "id": "Bbkj_k2PmnlF",
        "outputId": "5838139d-06e2-477f-efc8-36c1a8d3a1a6"
      },
      "execution_count": null,
      "outputs": [
        {
          "output_type": "execute_result",
          "data": {
            "text/plain": [
              "<matplotlib.legend.Legend at 0x7ac6860dcb80>"
            ]
          },
          "metadata": {},
          "execution_count": 102
        },
        {
          "output_type": "display_data",
          "data": {
            "text/plain": [
              "<Figure size 640x480 with 1 Axes>"
            ],
            "image/png": "[encoded data removed]"
          },
          "metadata": {}
        }
      ]
    },
    {
      "cell_type": "markdown",
      "source": [],
      "metadata": {
        "id": "Ixx6_BKDGCNk"
      }
    },
    {
      "cell_type": "code",
      "source": [
        "Looking at the relationship between HAPPINESS, GENDER, AND SOCIAL MEDIA HOURS"
      ],
      "metadata": {
        "id": "HgIYH3vzszqw"
      },
      "execution_count": null,
      "outputs": []
    },
    {
      "cell_type": "code",
      "source": [
        "health_unique = df['happy'].unique()\n",
        "gender_unique = df['sex'].unique()\n",
        "hours_unique = df['hours_online'].unique()\n",
        "\n",
        "print(\"Happy Unique\", health_unique)\n",
        "print(\"Gender Unique\", gender_unique)\n",
        "print(\"Hours Unique\", hours_unique)"
      ],
      "metadata": {
        "id": "n47x4yFrGpzQ",
        "outputId": "f6c4ad63-4335-476a-bf07-2907cb5db6b0",
        "colab": {
          "base_uri": "https://localhost:8080/"
        }
      },
      "execution_count": 14,
      "outputs": [
        {
          "output_type": "stream",
          "name": "stdout",
          "text": [
            "Happy Unique ['pretty happy' 'very happy' 'not too happy']\n",
            "Gender Unique ['male' 'female']\n",
            "Hours Unique [  5.   0.   1.   6.   2.   7.   3.  30.  10.  50.  21.  23.   4.   8.\n",
            "  20.  16.  15.  40.  60.  14.  25.  17.  12.   9.  42.  35.  45.  36.\n",
            "  32. 112.  22.  24.  64.  11.  29.  48.  13.  27.  26.  28. 130.  72.\n",
            "  55.  80.  70.  75.  18. 100.  66. 120.  19.  63.  33.  84.  91.  65.\n",
            " 140.  86.  90.  47.  38.  56. 105.  95.  83.  49.  98.  46.  57.  68.\n",
            " 168. 125. 110.  37. 150. 160.  39.  96.  34.  54.  76.  51. 119.  41.\n",
            "  85. 126.  43.]\n"
          ]
        }
      ]
    },
    {
      "cell_type": "markdown",
      "source": [
        "Make histogram to compare male vs female average usage of the internet and its impact on happiness"
      ],
      "metadata": {
        "id": "aMBQttIHHVBd"
      }
    },
    {
      "cell_type": "code",
      "source": [
        "# First group data by happiness types and gender and calculate average hours\n",
        "grouped_data = df.groupby(['happy', 'sex']).mean().reset_index()\n",
        "\n",
        "# Plot the histogram using seaborn\n",
        "sns.barplot(data=grouped_data, x='happy', y='hours_online', hue='sex')\n",
        "\n",
        "plt.xlabel('Level of Life Happiness')\n",
        "plt.ylabel('Average hours of internet usage')\n",
        "plt.title('Average Hours of Internet Usage by Happiness and Gender')\n",
        "plt.legend(title='Gender')\n",
        "\n",
        "plt.show()"
      ],
      "metadata": {
        "id": "0G2U_osoGw61",
        "outputId": "7ae19933-84bb-4357-8678-3f82ce6f5ee0",
        "colab": {
          "base_uri": "https://localhost:8080/",
          "height": 528
        }
      },
      "execution_count": 16,
      "outputs": [
        {
          "output_type": "stream",
          "name": "stderr",
          "text": [
            "<ipython-input-16-d8bab1581471>:2: FutureWarning: The default value of numeric_only in DataFrameGroupBy.mean is deprecated. In a future version, numeric_only will default to False. Either specify numeric_only or select only columns which should be valid for the function.\n",
            "  grouped_data = df.groupby(['happy', 'sex']).mean().reset_index()\n"
          ]
        },
        {
          "output_type": "display_data",
          "data": {
            "text/plain": [
              "<Figure size 640x480 with 1 Axes>"
            ],
            "image/png": "[encoded data removed]"
          },
          "metadata": {}
        }
      ]
    },
    {
      "cell_type": "code",
      "source": [
        "# generate frequency table\n",
        "frequency_table_percent = pd.crosstab(df['happy'], df['sex'], normalize='columns') * 100\n",
        "print(frequency_table_percent)"
      ],
      "metadata": {
        "id": "j19Avu9DKSbJ",
        "outputId": "a24fceae-abc5-4555-db74-72f2f918781d",
        "colab": {
          "base_uri": "https://localhost:8080/"
        }
      },
      "execution_count": 17,
      "outputs": [
        {
          "output_type": "stream",
          "name": "stdout",
          "text": [
            "sex               female       male\n",
            "happy                              \n",
            "not too happy  13.637142  14.576271\n",
            "pretty happy   58.745931  57.507478\n",
            "very happy     27.616927  27.916251\n"
          ]
        }
      ]
    },
    {
      "cell_type": "code",
      "source": [
        "# showcase median hours spent online\n",
        "median_vals = df.groupby(['happy', 'sex'])['hours_online'].median()\n",
        "print(median_vals)"
      ],
      "metadata": {
        "id": "MDMqlLJyK8Im",
        "outputId": "9448cb0a-8bcd-4f7b-e5c3-2996ef10b250",
        "colab": {
          "base_uri": "https://localhost:8080/"
        }
      },
      "execution_count": 18,
      "outputs": [
        {
          "output_type": "stream",
          "name": "stdout",
          "text": [
            "happy          sex   \n",
            "not too happy  female    6.0\n",
            "               male      8.0\n",
            "pretty happy   female    6.0\n",
            "               male      7.0\n",
            "very happy     female    5.0\n",
            "               male      5.0\n",
            "Name: hours_online, dtype: float64\n"
          ]
        }
      ]
    },
    {
      "cell_type": "code",
      "source": [
        "# showcase variance\n",
        "variance_vals = df.groupby(['happy', 'sex'])['hours_online'].var()\n",
        "print(variance_vals)"
      ],
      "metadata": {
        "id": "SqdqwrPFNnDx",
        "outputId": "c5df9320-a8f8-459b-cfc9-8911e8f0db1e",
        "colab": {
          "base_uri": "https://localhost:8080/"
        }
      },
      "execution_count": 21,
      "outputs": [
        {
          "output_type": "stream",
          "name": "stdout",
          "text": [
            "happy          sex   \n",
            "not too happy  female    388.087652\n",
            "               male      418.183164\n",
            "pretty happy   female    258.123393\n",
            "               male      271.259134\n",
            "very happy     female    191.167126\n",
            "               male      199.963806\n",
            "Name: hours_online, dtype: float64\n"
          ]
        }
      ]
    },
    {
      "cell_type": "code",
      "source": [
        "# showcase the different quantile values for the hours spent online among genders\n",
        "quantile_ranges = df.groupby(['happy', 'sex'])['hours_online'].quantile([0.25, 0.5, 0.75])\n",
        "print(quantile_ranges)"
      ],
      "metadata": {
        "id": "46rXVmfeNyLP",
        "outputId": "7605d42b-bd1e-4c49-d172-ae7e3e112e78",
        "colab": {
          "base_uri": "https://localhost:8080/"
        }
      },
      "execution_count": 23,
      "outputs": [
        {
          "output_type": "stream",
          "name": "stdout",
          "text": [
            "happy          sex         \n",
            "not too happy  female  0.25     2.00\n",
            "                       0.50     6.00\n",
            "                       0.75    16.25\n",
            "               male    0.25     2.50\n",
            "                       0.50     8.00\n",
            "                       0.75    20.00\n",
            "pretty happy   female  0.25     2.00\n",
            "                       0.50     6.00\n",
            "                       0.75    15.00\n",
            "               male    0.25     3.00\n",
            "                       0.50     7.00\n",
            "                       0.75    18.50\n",
            "very happy     female  0.25     2.00\n",
            "                       0.50     5.00\n",
            "                       0.75    14.00\n",
            "               male    0.25     2.00\n",
            "                       0.50     5.00\n",
            "                       0.75    14.00\n",
            "Name: hours_online, dtype: float64\n"
          ]
        }
      ]
    }
  ]
}